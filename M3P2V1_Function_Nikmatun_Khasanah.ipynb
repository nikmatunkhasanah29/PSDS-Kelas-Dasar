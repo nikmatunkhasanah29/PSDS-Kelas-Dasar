{
 "cells": [
  {
   "cell_type": "markdown",
   "metadata": {
    "id": "F74us8Ywna2j"
   },
   "source": [
    "**Function**"
   ]
  },
  {
   "cell_type": "markdown",
   "metadata": {
    "id": "1iJV0-0fnidh"
   },
   "source": [
    "Function adalah sebuah blok statement yang hanya akan dijalankan saat ia dipanggil.\n",
    "\n",
    "Fungsi len() untuk mengkur jumlah elemen dalam sebuah list dan fungsi print() untuk menampilkan pesan pada layar konsol yang merupakan contoh dari bentuk fungsi yang telah disediakan oleh bahasa pemrograman python atau built-in functions \n",
    "\n",
    "Selain fungsi yang telah disediakan oleh python , python mengizinkan untuk mendeklarasikan fungsi dalam kode yang dituliskan (user defined function)    "
   ]
  },
  {
   "cell_type": "markdown",
   "metadata": {
    "id": "OzQzejm3qE18"
   },
   "source": [
    "```\n",
    "def nama_fungsi(argument):\n",
    "    statement_1\n",
    "    ---\n",
    "    statement_\n",
    "    return returned_value\n",
    "```"
   ]
  },
  {
   "cell_type": "markdown",
   "metadata": {
    "id": "uyE9ejmMqnLV"
   },
   "source": [
    "\n",
    "\n",
    "*   nama_fungsi adalah nama untuk fungsi yang didefinisikan memiliki aturan seperti penamaan variabel.\n",
    "*   argument adalah variabel masukan ke fungsi, bisa tanpa variabel sat variabel atau lebih.   \n",
    "*   statement_1 ... statement_n adalah algoritma yang telah anda transfer dalam bahasa python yang merupakan inti dari fungsi yang anda definisikan. Seluruh statement adalah menjorok (indent) kedalam seperti pada conditioning dan looping\n",
    "*   return_value adalah variabel output dari fungsi anda, bisa tanpa variabel, satu variabel atau lebih.\n",
    "\n"
   ]
  },
  {
   "cell_type": "markdown",
   "metadata": {
    "id": "LW1tk0iPtiVS"
   },
   "source": [
    "**Argument dan Parameter**"
   ]
  },
  {
   "cell_type": "markdown",
   "metadata": {
    "id": "XWCiOPqltsR8"
   },
   "source": [
    "\n",
    "\n",
    "*   parameter adalah variabel yang digunakan dalam deklarasi fungsi\n",
    "*   argument adalah nilai yang diberikan saat pemanggilan fungsi\n",
    "\n"
   ]
  },
  {
   "cell_type": "code",
   "execution_count": 1,
   "metadata": {
    "colab": {
     "base_uri": "https://localhost:8080/"
    },
    "id": "EN50P0cAuH9p",
    "outputId": "5e5883f4-ab82-4fd7-c660-c9a3cde2edf0"
   },
   "outputs": [
    {
     "name": "stdout",
     "output_type": "stream",
     "text": [
      "Budiono\n"
     ]
    }
   ],
   "source": [
    "def print_nama(nama):\n",
    "  print(nama)\n",
    "\n",
    "print_nama(\"Budiono\")"
   ]
  },
  {
   "cell_type": "markdown",
   "metadata": {
    "id": "QhBMjdjruo4k"
   },
   "source": [
    "**Argument posisi dan kata kunci**"
   ]
  },
  {
   "cell_type": "code",
   "execution_count": 2,
   "metadata": {
    "colab": {
     "base_uri": "https://localhost:8080/"
    },
    "id": "ZAprCbUIuxNB",
    "outputId": "e1db3a09-6396-4967-c907-dc25bceb09a9"
   },
   "outputs": [
    {
     "name": "stdout",
     "output_type": "stream",
     "text": [
      "1 2 3\n",
      "1 2 3\n",
      "1 2 3\n",
      "1 2 3\n"
     ]
    }
   ],
   "source": [
    "def angka(a,b,c):\n",
    "  print(a,b,c)\n",
    "\n",
    "#Argument posisi\n",
    "#argument berdasarkan posisinya\n",
    "angka(1,2,3)\n",
    "\n",
    "#Argument berdasarkan kata kuncinya\n",
    "angka(a=1, b=2, c=3)\n",
    "angka(c=3, b=2, a=1)\n",
    "\n",
    "#Jika sudah diambilkata kunci maka urutan tidak menjadi penting lagi\n",
    "\n",
    "#Campuran antara argument posisi dan argument kata kunci \n",
    "angka(1, b=2, c=3)\n",
    "\n",
    "#Yang tidak diijinkan\n",
    "#foo(1, b=2, 3) karena argument posisi setelah argumen kata kunci\n",
    "#foo(1, b=2, a=3) karena terdapat dua nilai untuk argument kunci 'a'"
   ]
  },
  {
   "cell_type": "markdown",
   "metadata": {
    "id": "XSy3qEoaxe0s"
   },
   "source": [
    "**Argument Default**"
   ]
  },
  {
   "cell_type": "markdown",
   "metadata": {
    "id": "MNJJ2F4HxlBU"
   },
   "source": [
    "Fungsi dapat memiliki argument default dengan nilai yang telah ditentukan sebelumnya. Argument ini dapat ditinggalkan dan nilai default kemudian diteruskan kefungsi atau argument dapat dirubah dengan nilai yang berbeda. Argument default harus ditentukan sebagai **parameter terakhir** dalam suatu fungsi."
   ]
  },
  {
   "cell_type": "code",
   "execution_count": 3,
   "metadata": {
    "colab": {
     "base_uri": "https://localhost:8080/"
    },
    "id": "ArKdVAscyR8C",
    "outputId": "82e1d651-eefe-4059-e54a-4ab29f676d99"
   },
   "outputs": [
    {
     "name": "stdout",
     "output_type": "stream",
     "text": [
      "1 2 3 4\n",
      "1 2 3 100\n"
     ]
    }
   ],
   "source": [
    "#Argument default\n",
    "def angka2(a, b, c, d=4):\n",
    "  print(a, b, c, d)\n",
    "\n",
    "angka2(1, 2, 3, 4)\n",
    "angka2(1, b=2, c=3, d=100)\n",
    "\n",
    "#Catatan argument default harus diletakkan terakhir"
   ]
  },
  {
   "cell_type": "markdown",
   "metadata": {
    "id": "LnFwQNdWy4pk"
   },
   "source": [
    "**Praktik membuat fungsi**"
   ]
  },
  {
   "cell_type": "code",
   "execution_count": 4,
   "metadata": {
    "colab": {
     "base_uri": "https://localhost:8080/"
    },
    "id": "_iRMaKUUy9nJ",
    "outputId": "a40979fe-6b25-48e2-c544-ccf329aff9df"
   },
   "outputs": [
    {
     "data": {
      "text/plain": [
       "2"
      ]
     },
     "execution_count": 4,
     "metadata": {},
     "output_type": "execute_result"
    }
   ],
   "source": [
    "x = 1\n",
    "y = 2\n",
    "x*y"
   ]
  },
  {
   "cell_type": "code",
   "execution_count": 5,
   "metadata": {
    "colab": {
     "base_uri": "https://localhost:8080/"
    },
    "id": "tUmZp-OMzF4x",
    "outputId": "55ce3da6-987e-4269-b255-bbee714de84a"
   },
   "outputs": [
    {
     "data": {
      "text/plain": [
       "3"
      ]
     },
     "execution_count": 5,
     "metadata": {},
     "output_type": "execute_result"
    }
   ],
   "source": [
    "def penjumlahan(x,y):\n",
    "  a = x + y\n",
    "  return a\n",
    "\n",
    "penjumlahan(1, 2)"
   ]
  },
  {
   "cell_type": "markdown",
   "metadata": {
    "id": "ANS64Ks4zbBr"
   },
   "source": [
    "Penjumlahan yang memungkinkan untuk tiga variabel"
   ]
  },
  {
   "cell_type": "code",
   "execution_count": 6,
   "metadata": {
    "colab": {
     "base_uri": "https://localhost:8080/"
    },
    "id": "Ff06Gt0czgb0",
    "outputId": "890802c3-4e0c-4839-c9a8-fe7bd17dccd8"
   },
   "outputs": [
    {
     "name": "stdout",
     "output_type": "stream",
     "text": [
      "3\n",
      "6\n"
     ]
    }
   ],
   "source": [
    "def penjumlahan(x,y,z = None):\n",
    "  if (z == None):\n",
    "    return x + y\n",
    "  else:\n",
    "    return x + y + z\n",
    "\n",
    "print(penjumlahan(1, 2))\n",
    "print(penjumlahan(1, 2, 3))\n"
   ]
  },
  {
   "cell_type": "markdown",
   "metadata": {
    "id": "EzKwoIli0IK1"
   },
   "source": [
    "Menyimpan hasil fungsi dalam variabel"
   ]
  },
  {
   "cell_type": "code",
   "execution_count": 7,
   "metadata": {
    "colab": {
     "base_uri": "https://localhost:8080/"
    },
    "id": "2oj7l_Ca0Qdn",
    "outputId": "187802b5-7d05-48c2-9b6f-82ccafbaffbf"
   },
   "outputs": [
    {
     "data": {
      "text/plain": [
       "3"
      ]
     },
     "execution_count": 7,
     "metadata": {},
     "output_type": "execute_result"
    }
   ],
   "source": [
    "def penjumlahan(x,y):\n",
    "  return x + y\n",
    "\n",
    "a = penjumlahan\n",
    "a(1,2)"
   ]
  },
  {
   "cell_type": "markdown",
   "metadata": {
    "id": "fNjchQwp0gYw"
   },
   "source": [
    "**LATIHAN 1**"
   ]
  },
  {
   "cell_type": "markdown",
   "metadata": {
    "id": "GUlnZ6880lNc"
   },
   "source": [
    "Buatlah function pytagoras dengan input argumentnya panjang, tinggi dan alas segitiga untuk menghasilkan output nilai panjang sisi miring"
   ]
  },
  {
   "cell_type": "code",
   "execution_count": 8,
   "metadata": {},
   "outputs": [],
   "source": [
    "from math import sqrt"
   ]
  },
  {
   "cell_type": "code",
   "execution_count": 9,
   "metadata": {
    "id": "xUAhsxE90_Dc"
   },
   "outputs": [
    {
     "name": "stdout",
     "output_type": "stream",
     "text": [
      "Menghitung sisi miring segitiga\n",
      "-------------------------------\n",
      "Masukkan sisi alasnya:5\n",
      "Masukkan sisi tingginya:12\n",
      "Panjang sisi miringnya adalah: 13.0\n"
     ]
    }
   ],
   "source": [
    "print(\"Menghitung sisi miring segitiga\")\n",
    "print('-'*31)\n",
    "\n",
    "#Memasukkan alas dan tinggi segitiga\n",
    "sisi_alas   = int(input(\"Masukkan sisi alasnya:\"))\n",
    "sisi_tinggi = int(input(\"Masukkan sisi tingginya:\"))\n",
    "\n",
    "def pytagoras(sisi_alas, sisi_tinggi):\n",
    "    sisi_miring = sqrt(sisi_alas**2 + sisi_tinggi**2)\n",
    "    print(\"Panjang sisi miringnya adalah:\",sisi_miring)\n",
    "\n",
    "pytagoras(sisi_alas, sisi_tinggi)"
   ]
  },
  {
   "cell_type": "markdown",
   "metadata": {
    "id": "5uFVMJpx1ARB"
   },
   "source": [
    "**LATIHAN 2**"
   ]
  },
  {
   "cell_type": "markdown",
   "metadata": {
    "id": "xlQxSx7t1D72"
   },
   "source": [
    "Buatlah function luas permukaan balok dengan input argumentnya panjang,lebar, dan tinggi dari balok untuk menghasilkan output nilai luas permukaan balok tersebut"
   ]
  },
  {
   "cell_type": "code",
   "execution_count": 10,
   "metadata": {
    "id": "DnsV3qdQ1a3E"
   },
   "outputs": [
    {
     "name": "stdout",
     "output_type": "stream",
     "text": [
      "Luas Permukaan Balok\n",
      "--------------------\n",
      "Panjang balok:10\n",
      "Lebar balok:12\n",
      "Tinggi balok:15\n",
      "Luas permukaan balok adalah: 900\n"
     ]
    }
   ],
   "source": [
    "print(\"Luas Permukaan Balok\")\n",
    "print('-'*20)\n",
    "\n",
    "panjang = int(input(\"Panjang balok:\"))\n",
    "lebar = int(input(\"Lebar balok:\"))\n",
    "tinggi = int(input(\"Tinggi balok:\"))\n",
    "                  \n",
    "def luaspermukaan_balok(panjang, lebar, tinggi):\n",
    "    L = 2*((panjang*lebar)+(panjang*tinggi)+(lebar*tinggi))\n",
    "    print(\"Luas permukaan balok adalah:\",L)\n",
    "    \n",
    "luaspermukaan_balok(panjang, lebar, tinggi)"
   ]
  }
 ],
 "metadata": {
  "colab": {
   "name": "Untitled23.ipynb",
   "provenance": []
  },
  "kernelspec": {
   "display_name": "Python 3",
   "language": "python",
   "name": "python3"
  },
  "language_info": {
   "codemirror_mode": {
    "name": "ipython",
    "version": 3
   },
   "file_extension": ".py",
   "mimetype": "text/x-python",
   "name": "python",
   "nbconvert_exporter": "python",
   "pygments_lexer": "ipython3",
   "version": "3.7.4"
  }
 },
 "nbformat": 4,
 "nbformat_minor": 1
}
