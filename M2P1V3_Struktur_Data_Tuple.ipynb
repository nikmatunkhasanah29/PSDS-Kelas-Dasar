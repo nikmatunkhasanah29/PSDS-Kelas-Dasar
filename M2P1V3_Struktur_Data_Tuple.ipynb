{
 "cells": [
  {
   "cell_type": "markdown",
   "metadata": {
    "id": "_287Mv_TY2Qo"
   },
   "source": [
    "STRUKTUR DATA TUPLE"
   ]
  },
  {
   "cell_type": "markdown",
   "metadata": {
    "id": "sJx7WJbZY8XX"
   },
   "source": [
    "Tuple adalah jenis dari suatu data yang tidak dapat diubah elemennya. Umumnya tuple digunakan untuk data yang bersif sekali tulis dan dapat dieksekusi lebih cepat. Tuple didefinisikan dengan kurung dan elemen yang dipisahkan dengan koma."
   ]
  },
  {
   "cell_type": "code",
   "execution_count": 1,
   "metadata": {
    "colab": {
     "base_uri": "https://localhost:8080/"
    },
    "id": "jKcA4CErY43W",
    "outputId": "ef2a594d-55d8-4ef1-86c8-11ca303226f8"
   },
   "outputs": [
    {
     "name": "stdout",
     "output_type": "stream",
     "text": [
      "Ini adalah tuple (1, 'dua', True, (1+2j))\n"
     ]
    }
   ],
   "source": [
    "#Contoh tuple\n",
    "T1 = (1,\"dua\",True,1+2j)\n",
    "print(\"Ini adalah tuple\",T1)"
   ]
  },
  {
   "cell_type": "code",
   "execution_count": 2,
   "metadata": {
    "colab": {
     "base_uri": "https://localhost:8080/"
    },
    "id": "k6IkcUWDZQS0",
    "outputId": "1ba6786c-25f5-4b19-87b2-da69d9771a4f"
   },
   "outputs": [
    {
     "data": {
      "text/plain": [
       "tuple"
      ]
     },
     "execution_count": 2,
     "metadata": {},
     "output_type": "execute_result"
    }
   ],
   "source": [
    "#Menampilkan tipe struktur data\n",
    "type(T1)"
   ]
  },
  {
   "cell_type": "markdown",
   "metadata": {
    "id": "dAFFV9w1ZV-T"
   },
   "source": [
    "Sifat-sifat tuple"
   ]
  },
  {
   "cell_type": "code",
   "execution_count": 3,
   "metadata": {
    "colab": {
     "base_uri": "https://localhost:8080/"
    },
    "id": "iHlhXIAWZSxD",
    "outputId": "59f6634e-2875-4759-e33e-7045b0382a1d"
   },
   "outputs": [
    {
     "data": {
      "text/plain": [
       "(1, 'dua', True)"
      ]
     },
     "execution_count": 3,
     "metadata": {},
     "output_type": "execute_result"
    }
   ],
   "source": [
    "#Terurut\n",
    "T1[0:3]"
   ]
  },
  {
   "cell_type": "code",
   "execution_count": 4,
   "metadata": {
    "colab": {
     "base_uri": "https://localhost:8080/",
     "height": 191
    },
    "id": "EqlcdU47ZeIA",
    "outputId": "37b8277e-1244-4848-ca9c-e1ebf4a3e49d"
   },
   "outputs": [
    {
     "ename": "TypeError",
     "evalue": "ignored",
     "output_type": "error",
     "traceback": [
      "\u001b[0;31m---------------------------------------------------------------------------\u001b[0m",
      "\u001b[0;31mTypeError\u001b[0m                                 Traceback (most recent call last)",
      "\u001b[0;32m<ipython-input-4-55c6f67f8d24>\u001b[0m in \u001b[0;36m<module>\u001b[0;34m()\u001b[0m\n\u001b[1;32m      1\u001b[0m \u001b[0;31m#Tidak bisa diganti\u001b[0m\u001b[0;34m\u001b[0m\u001b[0;34m\u001b[0m\u001b[0;34m\u001b[0m\u001b[0m\n\u001b[0;32m----> 2\u001b[0;31m \u001b[0mT1\u001b[0m\u001b[0;34m[\u001b[0m\u001b[0;36m4\u001b[0m\u001b[0;34m]\u001b[0m \u001b[0;34m=\u001b[0m \u001b[0;36m15\u001b[0m\u001b[0;34m\u001b[0m\u001b[0;34m\u001b[0m\u001b[0m\n\u001b[0m",
      "\u001b[0;31mTypeError\u001b[0m: 'tuple' object does not support item assignment"
     ]
    }
   ],
   "source": [
    "#Tidak bisa diganti\n",
    "T1[4] = 15"
   ]
  },
  {
   "cell_type": "code",
   "execution_count": 5,
   "metadata": {
    "colab": {
     "base_uri": "https://localhost:8080/"
    },
    "id": "yNCHxRR3ZjPU",
    "outputId": "75e2408c-93b5-4588-a636-b7aab900ffa0"
   },
   "outputs": [
    {
     "name": "stdout",
     "output_type": "stream",
     "text": [
      "elemen ketiga tuple adalah: (1+2j)\n"
     ]
    }
   ],
   "source": [
    "#Dapat diindeks/slicing \n",
    "print(\"elemen ketiga tuple adalah:\",T1[3])"
   ]
  },
  {
   "cell_type": "code",
   "execution_count": 6,
   "metadata": {
    "colab": {
     "base_uri": "https://localhost:8080/"
    },
    "id": "7fG1EWpfZrHJ",
    "outputId": "e9342a63-d98e-47d3-9ff8-6de256a509b3"
   },
   "outputs": [
    {
     "data": {
      "text/plain": [
       "(3, 2.4, True, 2.4)"
      ]
     },
     "execution_count": 6,
     "metadata": {},
     "output_type": "execute_result"
    }
   ],
   "source": [
    "#Dapat diijinkan duplikasi\n",
    "T2 = (3,2.4,True,2.4)\n",
    "T2"
   ]
  },
  {
   "cell_type": "markdown",
   "metadata": {
    "id": "s6qsjCSsaCAj"
   },
   "source": [
    "Menggabungkan tuple"
   ]
  },
  {
   "cell_type": "code",
   "execution_count": 7,
   "metadata": {
    "colab": {
     "base_uri": "https://localhost:8080/"
    },
    "id": "vjrE4ZA4Z98b",
    "outputId": "189b78c7-b2bc-451a-a224-7955b0e2bb0b"
   },
   "outputs": [
    {
     "data": {
      "text/plain": [
       "(1, 'dua', True, (1+2j), 3, 2.4, True, 2.4)"
      ]
     },
     "execution_count": 7,
     "metadata": {},
     "output_type": "execute_result"
    }
   ],
   "source": [
    "#Menggabungkan tuple\n",
    "T3 = T1+T2\n",
    "T3"
   ]
  },
  {
   "cell_type": "markdown",
   "metadata": {
    "id": "v52XGN3zaODA"
   },
   "source": [
    "Latihan 1"
   ]
  },
  {
   "cell_type": "code",
   "execution_count": 8,
   "metadata": {
    "colab": {
     "base_uri": "https://localhost:8080/"
    },
    "id": "cZXf9TlTaJ2b",
    "outputId": "fb1e649b-e3f8-4c26-faf0-315987b77da7"
   },
   "outputs": [
    {
     "name": "stdout",
     "output_type": "stream",
     "text": [
      "Ini adalah tuple (1, 2, 3, 4, 5.5, 6, False, 8, 9, (2+9j))\n"
     ]
    }
   ],
   "source": [
    "#Contoh tuple\n",
    "T1 = (1,2,3,4,5.5,6,False,8,9,2+9j)\n",
    "print(\"Ini adalah tuple\",T1)"
   ]
  },
  {
   "cell_type": "code",
   "execution_count": 9,
   "metadata": {
    "colab": {
     "base_uri": "https://localhost:8080/"
    },
    "id": "F4HxxTg6aaSB",
    "outputId": "a8723211-5b9a-4f14-f398-bf1595f30185"
   },
   "outputs": [
    {
     "data": {
      "text/plain": [
       "tuple"
      ]
     },
     "execution_count": 9,
     "metadata": {},
     "output_type": "execute_result"
    }
   ],
   "source": [
    "#Menampilkan tipe struktur data\n",
    "type(T1)"
   ]
  },
  {
   "cell_type": "markdown",
   "metadata": {
    "id": "TENSlEIiaiMB"
   },
   "source": [
    "Latihan 2"
   ]
  },
  {
   "cell_type": "code",
   "execution_count": 10,
   "metadata": {
    "colab": {
     "base_uri": "https://localhost:8080/"
    },
    "id": "XkePgO5Fafm2",
    "outputId": "de42a30f-1d89-4a9a-c6d0-e868d2485ac3"
   },
   "outputs": [
    {
     "data": {
      "text/plain": [
       "('mawar', 'melati', 'anggrek')"
      ]
     },
     "execution_count": 10,
     "metadata": {},
     "output_type": "execute_result"
    }
   ],
   "source": [
    "T2 = ('mawar','melati','anggrek')\n",
    "T2"
   ]
  },
  {
   "cell_type": "code",
   "execution_count": 11,
   "metadata": {
    "colab": {
     "base_uri": "https://localhost:8080/"
    },
    "id": "UqOJ06GuapLz",
    "outputId": "70f8e47f-188a-4290-b821-73d4a6959522"
   },
   "outputs": [
    {
     "data": {
      "text/plain": [
       "(1, 2, 3, 4, 5.5, 6, False, 8, 9, (2+9j), 'mawar', 'melati', 'anggrek')"
      ]
     },
     "execution_count": 11,
     "metadata": {},
     "output_type": "execute_result"
    }
   ],
   "source": [
    "#Menggabungkan 2 tuple\n",
    "T3 = T1+T2\n",
    "T3"
   ]
  },
  {
   "cell_type": "markdown",
   "metadata": {
    "id": "VLoUFsaGawRH"
   },
   "source": [
    "TERIMA KASIH :)"
   ]
  }
 ],
 "metadata": {
  "colab": {
   "name": "Untitled14.ipynb",
   "provenance": []
  },
  "kernelspec": {
   "display_name": "Python 3",
   "language": "python",
   "name": "python3"
  },
  "language_info": {
   "codemirror_mode": {
    "name": "ipython",
    "version": 3
   },
   "file_extension": ".py",
   "mimetype": "text/x-python",
   "name": "python",
   "nbconvert_exporter": "python",
   "pygments_lexer": "ipython3",
   "version": "3.7.4"
  }
 },
 "nbformat": 4,
 "nbformat_minor": 1
}
