{
  "nbformat": 4,
  "nbformat_minor": 0,
  "metadata": {
    "colab": {
      "name": "M3P2V2_Lambda.ipynb",
      "provenance": [],
      "authorship_tag": "ABX9TyOwrmfRjkVb5QerdMTVzqQ7",
      "include_colab_link": true
    },
    "kernelspec": {
      "name": "python3",
      "display_name": "Python 3"
    },
    "language_info": {
      "name": "python"
    }
  },
  "cells": [
    {
      "cell_type": "markdown",
      "metadata": {
        "id": "view-in-github",
        "colab_type": "text"
      },
      "source": [
        "<a href=\"https://colab.research.google.com/github/nikmatunkhasanah29/PSDS-Kelas-Dasar/blob/main/M3P2V2_Lambda.ipynb\" target=\"_parent\"><img src=\"https://colab.research.google.com/assets/colab-badge.svg\" alt=\"Open In Colab\"/></a>"
      ]
    },
    {
      "cell_type": "markdown",
      "metadata": {
        "id": "NzY5KLXnawTo"
      },
      "source": [
        "**LAMBDA**"
      ]
    },
    {
      "cell_type": "markdown",
      "metadata": {
        "id": "l_cFwTVEa3TB"
      },
      "source": [
        "Fungsi lambda adalah fungsi anonim **one line** yang didefinisikan tanpa nama. Fungsi lambda dapat mengambil sejumlah **arguments**, tetapi hanya dapat memiliki satu **expression**. Sedangkan fungsi normal didefinisikan menggunakan kata kunci **def** dan dalam python fungsi anonim didefinisikan menggunakan kata kunci lambda.\n",
        "Fungsi lambda digunakan ketika fungsi sederhana hanya digunakan sekali atau waktu yang singkat. Penggunaanya yang paling umum adalah sebagai argument untuk fungsi tingkat tinggi (fungsi yang menggunakan fungsi lain sebagai argument)."
      ]
    },
    {
      "cell_type": "markdown",
      "metadata": {
        "id": "MAJJdHLXa-Sp"
      },
      "source": [
        "Lambda expression di Python adalah sebuah ekspresi untuk membuat fungsi. Lambda berasal dari teori kalkulus yaitu Lambda Calculus yang dikenalkan oleh Alonzo Church ditahun 1930. Kita bisa membuat fungsi tanpa nama yang dikenal dengan anonymous function."
      ]
    },
    {
      "cell_type": "code",
      "metadata": {
        "id": "pO10toR-bxah"
      },
      "source": [
        "#Example : fungsi penjumlahan kuadrat\n",
        "def square_sum(x,y):\n",
        "   return x**2+y**2"
      ],
      "execution_count": null,
      "outputs": []
    },
    {
      "cell_type": "markdown",
      "metadata": {
        "id": "PutU1gGoczn9"
      },
      "source": [
        "Dengan lambda kita tidak perlu menggunakan def dan return bahkan kita tidak perlu menuliskan namanya."
      ]
    },
    {
      "cell_type": "code",
      "metadata": {
        "colab": {
          "base_uri": "https://localhost:8080/"
        },
        "id": "7AtnDs8BdG76",
        "outputId": "bacc91f5-e09a-4f35-d524-b2e116e756ff"
      },
      "source": [
        "lambda x,y : x**2 + y**2"
      ],
      "execution_count": null,
      "outputs": [
        {
          "output_type": "execute_result",
          "data": {
            "text/plain": [
              "<function __main__.<lambda>>"
            ]
          },
          "metadata": {},
          "execution_count": 4
        }
      ]
    },
    {
      "cell_type": "markdown",
      "metadata": {
        "id": "ie-Ual_UdQUP"
      },
      "source": [
        "**Menggunakan Lambda Expression**"
      ]
    },
    {
      "cell_type": "markdown",
      "metadata": {
        "id": "z9TXepezdUUB"
      },
      "source": [
        "Untuk membuat fungsi dalam satu baris ekspresi.\n",
        "Format untuk membuat fungsi lambda :"
      ]
    },
    {
      "cell_type": "markdown",
      "metadata": {
        "id": "dU4_PSwFdrbC"
      },
      "source": [
        "![IMG_20211023_140429.jpg](data:image/jpeg;base64,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)"
      ]
    },
    {
      "cell_type": "markdown",
      "metadata": {
        "id": "kkXbqG79eIpF"
      },
      "source": [
        "Lambda bisa memiliki lebih dari satu argument atau parameter, tetapi hanya bisa memiliki satu ekspresi."
      ]
    },
    {
      "cell_type": "code",
      "metadata": {
        "id": "ZmPRv3aGeYqa"
      },
      "source": [
        "greeting = lambda name : print(f\"Hello,{name}\")"
      ],
      "execution_count": null,
      "outputs": []
    },
    {
      "cell_type": "markdown",
      "metadata": {
        "id": "4rrCJjDkexnb"
      },
      "source": [
        "Karena fungsi lambda tidak punya nama,maka kita butuh variabel untuk menyimpannya.\n",
        "Nanti saat kita mau panggil, kita tinggal menuliskan saja nama variabelnya."
      ]
    },
    {
      "cell_type": "code",
      "metadata": {
        "colab": {
          "base_uri": "https://localhost:8080/"
        },
        "id": "lb8yVi6yfdHC",
        "outputId": "a960654d-67fd-4857-809c-b0ddb7a693f1"
      },
      "source": [
        "#Example:\n",
        "greeting(\"Nikma\")"
      ],
      "execution_count": null,
      "outputs": [
        {
          "output_type": "stream",
          "name": "stdout",
          "text": [
            "Hello,Nikma\n"
          ]
        }
      ]
    },
    {
      "cell_type": "markdown",
      "metadata": {
        "id": "VMmHRNBcfuza"
      },
      "source": [
        "Contoh penggunaan fungsi lambda"
      ]
    },
    {
      "cell_type": "code",
      "metadata": {
        "colab": {
          "base_uri": "https://localhost:8080/"
        },
        "id": "7t1dbP62e7WI",
        "outputId": "a53391e7-2169-4dd4-aaf0-812d6708c564"
      },
      "source": [
        "#Fungsi lambda untuk menambahkan angka 10 kepada argument input\n",
        "f = lambda x: x + 10\n",
        "val1 = f(5)\n",
        "val2 = f(100)\n",
        "print(val1,val2)"
      ],
      "execution_count": null,
      "outputs": [
        {
          "output_type": "stream",
          "name": "stdout",
          "text": [
            "15 110\n"
          ]
        }
      ]
    },
    {
      "cell_type": "code",
      "metadata": {
        "colab": {
          "base_uri": "https://localhost:8080/"
        },
        "id": "2XcBHUpQmAuV",
        "outputId": "4c3628e2-83d6-4953-d1b5-226e9ed0c39c"
      },
      "source": [
        "#Fungsi lambda untuk mengalikan dua argument input dan menampilkan hasilnya\n",
        "f = lambda x,y : x*y\n",
        "val3 = f(2,10)\n",
        "val4 = f(7,5)\n",
        "print(val3,val4)"
      ],
      "execution_count": null,
      "outputs": [
        {
          "output_type": "stream",
          "name": "stdout",
          "text": [
            "20 35\n"
          ]
        }
      ]
    },
    {
      "cell_type": "markdown",
      "metadata": {
        "id": "Av6KzCoxmgMD"
      },
      "source": [
        "**Anonymous Function**"
      ]
    },
    {
      "cell_type": "markdown",
      "metadata": {
        "id": "Orz8e6VWmnD8"
      },
      "source": [
        "Karena lambda adalah anonymous function, ia akan bebas menggunakan nama apa saja dengan kata lain fungsi lambda bisa disimpan di variabel manapun. Tentunya tidak bisa dilakukan oleh fungsi yang dibuat dengan def."
      ]
    },
    {
      "cell_type": "code",
      "metadata": {
        "colab": {
          "base_uri": "https://localhost:8080/",
          "height": 316
        },
        "id": "ParW16BZnLty",
        "outputId": "a3325493-f810-4abc-be2e-30bdeb6c3224"
      },
      "source": [
        "#Example :\n",
        "def say_hello(name):\n",
        "  print (f\"Hello {name}, apa kabar?\")\n",
        "\n",
        "ucapin = say_hello(name)"
      ],
      "execution_count": null,
      "outputs": [
        {
          "output_type": "error",
          "ename": "NameError",
          "evalue": "ignored",
          "traceback": [
            "\u001b[0;31m---------------------------------------------------------------------------\u001b[0m",
            "\u001b[0;31mNameError\u001b[0m                                 Traceback (most recent call last)",
            "\u001b[0;32m<ipython-input-11-9c7ef9fdb830>\u001b[0m in \u001b[0;36m<module>\u001b[0;34m()\u001b[0m\n\u001b[1;32m      3\u001b[0m   \u001b[0mprint\u001b[0m \u001b[0;34m(\u001b[0m\u001b[0;34mf\"Hello {name}, apa kabar?\"\u001b[0m\u001b[0;34m)\u001b[0m\u001b[0;34m\u001b[0m\u001b[0;34m\u001b[0m\u001b[0m\n\u001b[1;32m      4\u001b[0m \u001b[0;34m\u001b[0m\u001b[0m\n\u001b[0;32m----> 5\u001b[0;31m \u001b[0mucapin\u001b[0m \u001b[0;34m=\u001b[0m \u001b[0msay_hello\u001b[0m\u001b[0;34m(\u001b[0m\u001b[0mname\u001b[0m\u001b[0;34m)\u001b[0m\u001b[0;34m\u001b[0m\u001b[0;34m\u001b[0m\u001b[0m\n\u001b[0m",
            "\u001b[0;31mNameError\u001b[0m: name 'name' is not defined"
          ]
        }
      ]
    },
    {
      "cell_type": "markdown",
      "metadata": {
        "id": "c2Dx5ksAnw_Q"
      },
      "source": [
        "Kenapa bisa terjadi??\n",
        "karena fungsi tersebut bukanlah fungsi anonymous yang boleh diubah-ubah namanya."
      ]
    },
    {
      "cell_type": "markdown",
      "metadata": {
        "id": "OeDgyxO_obBb"
      },
      "source": [
        "Kita coba pada fungsi lambda greeting () yang sudah dibuat disimpan lagi ke variabel yang berbeda yaitu sapa. Kita coba lihat dibaris terakhir."
      ]
    },
    {
      "cell_type": "code",
      "metadata": {
        "colab": {
          "base_uri": "https://localhost:8080/"
        },
        "id": "8LmV_r9Jo8s-",
        "outputId": "2df3646b-8d2d-4112-8ee6-29aa1123856a"
      },
      "source": [
        "greeting = lambda name : print(f\"Hello,{name}\")\n",
        "sapa = greeting\n",
        "\n",
        "greeting(\"Nikma\")\n",
        "sapa(\"Anjas\")"
      ],
      "execution_count": null,
      "outputs": [
        {
          "output_type": "stream",
          "name": "stdout",
          "text": [
            "Hello,Nikma\n",
            "Hello,Anjas\n"
          ]
        }
      ]
    },
    {
      "cell_type": "markdown",
      "metadata": {
        "id": "XkDMgKsrphr0"
      },
      "source": [
        "Hasilnya tidak error karena ini fungsi anonymous atau lambda"
      ]
    },
    {
      "cell_type": "markdown",
      "metadata": {
        "id": "eO3frriGppH7"
      },
      "source": [
        "**Eksekusi Lambda Secara Langsung**"
      ]
    },
    {
      "cell_type": "markdown",
      "metadata": {
        "id": "UcQPvb0Epw8j"
      },
      "source": [
        "Kelebihan fungsi lambda dibandingkan def adalah fungsi lambda bisa kita eksekusi kan langsung."
      ]
    },
    {
      "cell_type": "code",
      "metadata": {
        "colab": {
          "base_uri": "https://localhost:8080/"
        },
        "id": "aSJMJu3VqA9B",
        "outputId": "30291a0f-7729-44e8-96f6-4eab62bf5a96"
      },
      "source": [
        "#Example:\n",
        "(lambda x,y:x**2+y**2)(4,6)"
      ],
      "execution_count": null,
      "outputs": [
        {
          "output_type": "execute_result",
          "data": {
            "text/plain": [
              "52"
            ]
          },
          "metadata": {},
          "execution_count": 14
        }
      ]
    },
    {
      "cell_type": "markdown",
      "metadata": {
        "id": "0r_YhTolqW08"
      },
      "source": [
        "Tanda kurung yang mengapit fungsi lambda artinya kita akan langsung mengeksekusi fungsi tersebut. Lalu kurung berikutnya berisi parameter. Dimana angka 4 dan 6 disitu adalah parameter x dan y yang akan diberikan kepada fungsi lambda. Maka kita dapat memperoleh hasilnya yaitu 16 + 36 = 52. Hasil dari eksekusi ini bisa juga kita simpan kedalam variabel."
      ]
    },
    {
      "cell_type": "code",
      "metadata": {
        "id": "SaobJ7X-rF8I"
      },
      "source": [
        "hasil =(lambda x,y:x**2+y**2)(4,6)"
      ],
      "execution_count": null,
      "outputs": []
    },
    {
      "cell_type": "markdown",
      "metadata": {
        "id": "cpeG5G2nrakh"
      },
      "source": [
        "**Mengapa harus pakai lambda**\n",
        "Memang tidak harus kita menggunakan fungsi lambda namun dalam kasus tertentu lambda lebih baik dibandingkan fungsi biasa. Lambda biasanya kita butuhkan saat ingin membuat fungsi dalam satu baris. Bisanya saat menggunakan fungsi-fungsi seperti filter(), map() dan reduce() kita akan membutuhkan lambda. Karena dalam fungsi tersebut membutuhkan parameter fungsi."
      ]
    },
    {
      "cell_type": "code",
      "metadata": {
        "colab": {
          "base_uri": "https://localhost:8080/"
        },
        "id": "YVgXKxrgsWJS",
        "outputId": "fa2287fe-00df-4acc-b052-1b5c572d92a6"
      },
      "source": [
        "bilangan = [10,2,8,7,5,4,3,11,0,1]\n",
        "filtered_result = map(lambda x:x*x, bilangan)\n",
        "print(list(filtered_result))"
      ],
      "execution_count": null,
      "outputs": [
        {
          "output_type": "stream",
          "name": "stdout",
          "text": [
            "[100, 4, 64, 49, 25, 16, 9, 121, 0, 1]\n"
          ]
        }
      ]
    },
    {
      "cell_type": "markdown",
      "metadata": {
        "id": "6phijJrmvU7p"
      },
      "source": [
        "Pada fungsi map() kita memberikan parameter dengan fungsi lambda. **Mengapa demikian??**\n",
        "Karena lambda bisa disimpan kedalam variabel dan otomatis bisa jadi parameter."
      ]
    },
    {
      "cell_type": "code",
      "metadata": {
        "colab": {
          "base_uri": "https://localhost:8080/"
        },
        "id": "lCpcZrDYvuS5",
        "outputId": "046e5a71-ec17-4778-eb76-a0fe10f6c255"
      },
      "source": [
        "#Example lain: fungsi filter\n",
        "#Menentukan bilangan genap\n",
        "genap = lambda x: x%2 == 0\n",
        "list(filter(genap, range(11)))"
      ],
      "execution_count": null,
      "outputs": [
        {
          "output_type": "execute_result",
          "data": {
            "text/plain": [
              "[0, 2, 4, 6, 8, 10]"
            ]
          },
          "metadata": {},
          "execution_count": 23
        }
      ]
    },
    {
      "cell_type": "markdown",
      "metadata": {
        "id": "o99vCZbUwM_G"
      },
      "source": [
        "**LATIHAN**"
      ]
    },
    {
      "cell_type": "markdown",
      "metadata": {
        "id": "bisPnw7AwPyh"
      },
      "source": [
        "1. Buatlah fungsi lambda untuk menghitung luas persegi panjang"
      ]
    },
    {
      "cell_type": "markdown",
      "metadata": {
        "id": "jJl9EBJ-wYjU"
      },
      "source": [
        "```\n",
        "a. Input berupa variabel p dan l\n",
        "b. Fungsi lambda disimpan dalam variabel 'Luas_Persegi_Panjang'\n",
        "c. Jika fungsi lambda dijalankan akan menghasilkan output \"Luas Persegi panjang anda *(luasnya)* cm\"\n",
        "\n",
        "```"
      ]
    },
    {
      "cell_type": "markdown",
      "metadata": {
        "id": "2_Mp9_cZyv-r"
      },
      "source": [
        "**Penyelesaian:**"
      ]
    },
    {
      "cell_type": "code",
      "metadata": {
        "colab": {
          "base_uri": "https://localhost:8080/"
        },
        "id": "OIhmQGgS61md",
        "outputId": "eb2275ac-8517-4973-972c-fdab4bc47acc"
      },
      "source": [
        "(lambda p,l:p*l)(4,6)"
      ],
      "execution_count": null,
      "outputs": [
        {
          "output_type": "execute_result",
          "data": {
            "text/plain": [
              "24"
            ]
          },
          "metadata": {},
          "execution_count": 18
        }
      ]
    },
    {
      "cell_type": "code",
      "metadata": {
        "colab": {
          "base_uri": "https://localhost:8080/"
        },
        "id": "8G3dmkfE7WfD",
        "outputId": "76c10d30-2e8b-4c64-c1e7-d8ab72cc1171"
      },
      "source": [
        "Luas_Persegi_Panjang =(lambda p,l:p*l)(4,6)\n",
        "print (\"Luas persegi panjang anda adalah\",Luas_Persegi_Panjang,\"cm\")"
      ],
      "execution_count": null,
      "outputs": [
        {
          "output_type": "stream",
          "name": "stdout",
          "text": [
            "Luas persegi panjang anda adalah 24 cm\n"
          ]
        }
      ]
    },
    {
      "cell_type": "markdown",
      "metadata": {
        "id": "W4hU2eYgxIYC"
      },
      "source": [
        "2. Buatlah fungsi lambda untuk menghitung luas segitiga"
      ]
    },
    {
      "cell_type": "markdown",
      "metadata": {
        "id": "n_kcqG3QxnBF"
      },
      "source": [
        "```\n",
        "a. Input berupa variabel a dan t\n",
        "b. Fungsi lambda disimpan dalam variabel 'Luas_Segitiga'\n",
        "c. Jika fungsi lambda dijalankan akan menghasilkan output \"Luas Segitiga anda *(luasnya)* cm\"\n",
        "```"
      ]
    },
    {
      "cell_type": "markdown",
      "metadata": {
        "id": "RLclIpb6zWyj"
      },
      "source": [
        "**Penyelesaian:**"
      ]
    },
    {
      "cell_type": "code",
      "metadata": {
        "colab": {
          "base_uri": "https://localhost:8080/"
        },
        "id": "bnX871lg8HXN",
        "outputId": "8d3446b7-c8b1-4140-eb9c-0a4ce449fc7a"
      },
      "source": [
        "(lambda a,t:(1/2)*a*t)(4,6)"
      ],
      "execution_count": null,
      "outputs": [
        {
          "output_type": "execute_result",
          "data": {
            "text/plain": [
              "12.0"
            ]
          },
          "metadata": {},
          "execution_count": 21
        }
      ]
    },
    {
      "cell_type": "code",
      "metadata": {
        "colab": {
          "base_uri": "https://localhost:8080/"
        },
        "id": "CG15IRKG8Z1k",
        "outputId": "1d0d5bb5-e1cd-4232-ff2a-28970afacde9"
      },
      "source": [
        "Luas_Segitiga =(lambda a,t:(1/2)*a*t)(4,6)\n",
        "print (\"Luas Segitiga anda adalah\",Luas_Segitiga,\"cm\")"
      ],
      "execution_count": null,
      "outputs": [
        {
          "output_type": "stream",
          "name": "stdout",
          "text": [
            "Luas Segitiga anda adalah 12.0 cm\n"
          ]
        }
      ]
    },
    {
      "cell_type": "markdown",
      "metadata": {
        "id": "3_n-l-pwzb5e"
      },
      "source": [
        "*Selesai*\n",
        ":)"
      ]
    }
  ]
}