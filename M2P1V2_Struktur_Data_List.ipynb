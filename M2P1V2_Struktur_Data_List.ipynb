{
 "cells": [
  {
   "cell_type": "markdown",
   "metadata": {
    "id": "WJOBO8ARXLPl"
   },
   "source": [
    "LIST"
   ]
  },
  {
   "cell_type": "markdown",
   "metadata": {
    "id": "BPm_6YOwXPoC"
   },
   "source": [
    "List adalah jenis kumpulan data terurut (ordered sequence) dan merupakan salah satu variabel yang sering digunakan pada python. Serupa namun tak sama dengan array pada bahasa pemrograman lainnya. Bedanya, elemen list pada python tidak harus memiliki tipe data yang sama. Mendeklarasikan list cukup mudah dengan kurung siku dan elemen yang dipisahkan dengan koma.     "
   ]
  },
  {
   "cell_type": "code",
   "execution_count": 3,
   "metadata": {
    "colab": {
     "base_uri": "https://localhost:8080/"
    },
    "id": "0eFcJ7DaXUCk",
    "outputId": "fa3913cd-bb68-4d04-c321-dee2787b4dfa"
   },
   "outputs": [
    {
     "name": "stdout",
     "output_type": "stream",
     "text": [
      "<class 'list'>\n"
     ]
    }
   ],
   "source": [
    "#Contoh list\n",
    "L1 = [1,4,2,13]\n",
    "\n",
    "print(type(L1)) "
   ]
  },
  {
   "cell_type": "code",
   "execution_count": 4,
   "metadata": {
    "colab": {
     "base_uri": "https://localhost:8080/"
    },
    "id": "qYNib8lnXyxB",
    "outputId": "a751e070-f890-430b-c24c-a2ebb47878c4"
   },
   "outputs": [
    {
     "data": {
      "text/plain": [
       "['a', 'python', 3]"
      ]
     },
     "execution_count": 4,
     "metadata": {},
     "output_type": "execute_result"
    }
   ],
   "source": [
    "L2 = [\"a\",\"python\",3]\n",
    "L2"
   ]
  },
  {
   "cell_type": "code",
   "execution_count": 5,
   "metadata": {
    "colab": {
     "base_uri": "https://localhost:8080/"
    },
    "id": "61H_duJuX0z3",
    "outputId": "486be4e2-4e39-47d3-e8a5-cf5c1fa042fa"
   },
   "outputs": [
    {
     "name": "stdout",
     "output_type": "stream",
     "text": [
      "[1, 4, 2, 13]\n",
      "['a', 'python', 3]\n"
     ]
    }
   ],
   "source": [
    "print(L1)\n",
    "print(L2)"
   ]
  },
  {
   "cell_type": "markdown",
   "metadata": {
    "id": "UjPjUwNbX-iq"
   },
   "source": [
    "Indeks di python (List,tuple) mulai dari 0"
   ]
  },
  {
   "cell_type": "code",
   "execution_count": 6,
   "metadata": {
    "colab": {
     "base_uri": "https://localhost:8080/"
    },
    "id": "3R_1q5x-YBJ5",
    "outputId": "91f3ef94-de2c-4983-fd87-ba8dd907be3b"
   },
   "outputs": [
    {
     "name": "stdout",
     "output_type": "stream",
     "text": [
      "Memanggil List L1 dengan indeks urutan: [1, 4, 2]\n",
      "List L1 setelah diganti elemennya [1, 2, 2, 13]\n",
      "Slicing List L1: 13\n",
      "Duplikasi pada list:  [1, 'dua', True, (2+3j), (2+3j)]\n"
     ]
    }
   ],
   "source": [
    "#Sifat-sifat List\n",
    "\n",
    "#Terurut/ordered\n",
    "print(\"Memanggil List L1 dengan indeks urutan:\",L1[0:3])\n",
    "\n",
    "#Bisa diganti multable\n",
    "L1[1] = 2\n",
    "print(\"List L1 setelah diganti elemennya\",L1)\n",
    "\n",
    "#Dapat diindeks/slicing \n",
    "print(\"Slicing List L1:\",L1[3])\n",
    "\n",
    "#Dapat diijinkan duplikasi\n",
    "L1 = [1,\"dua\",True,2+3j,2+3j]\n",
    "print(\"Duplikasi pada list: \",L1)"
   ]
  },
  {
   "cell_type": "markdown",
   "metadata": {
    "id": "m_w8RPUhYPFg"
   },
   "source": [
    "Latihan 1"
   ]
  },
  {
   "cell_type": "code",
   "execution_count": 7,
   "metadata": {
    "colab": {
     "base_uri": "https://localhost:8080/"
    },
    "id": "3nkFM5NyYKSe",
    "outputId": "fe70723b-5108-4e29-a71b-0f8e6d8a0b15"
   },
   "outputs": [
    {
     "name": "stdout",
     "output_type": "stream",
     "text": [
      "Aneka makanan :\n",
      "['mie iblis', 'udang keju', 'udang rambutan', 'siomay', 'mie setan', 'mie angel', 'lumpia udang']\n",
      "____________________________________________________________________________________________________\n",
      "Aneka minuman:\n",
      "['thai green tea', 'thai tea ori', 'teh', 'lemon tea', 'vanila latte', 'orange', 'milo', 'cokelat']\n",
      "____________________________________________________________________________________________________\n",
      "Level kepedasan:\n",
      "[1, 2, 3, 4, 5, 6, 7, 8]\n"
     ]
    }
   ],
   "source": [
    "#List menu makanan dan minuman MIE GAACOWAN\n",
    "print(\"Aneka makanan :\")\n",
    "L1 = ['mie iblis','udang keju','udang rambutan','siomay','mie setan','mie angel','lumpia udang']\n",
    "print(L1)\n",
    "print('_'*100)\n",
    "\n",
    "print(\"Aneka minuman:\")\n",
    "L2 = ['thai green tea','thai tea ori','teh','lemon tea','vanila latte','orange','milo','cokelat'] \n",
    "print(L2)\n",
    "print('_'*100)\n",
    "\n",
    "print(\"Level kepedasan:\")\n",
    "L3 = [1,2,3,4,5,6,7,8]\n",
    "print(L3)"
   ]
  },
  {
   "cell_type": "markdown",
   "metadata": {
    "id": "h1MjfodeYaSH"
   },
   "source": [
    "Latihan 2"
   ]
  },
  {
   "cell_type": "code",
   "execution_count": 8,
   "metadata": {
    "colab": {
     "base_uri": "https://localhost:8080/"
    },
    "id": "jtmWB9yUYbko",
    "outputId": "5ab4701a-d0cf-4886-93dc-12f8635e187f"
   },
   "outputs": [
    {
     "name": "stdout",
     "output_type": "stream",
     "text": [
      "Daftar makanan dan minuman ter-update: \n",
      "Menu makanan lama: ['mie iblis', 'udang keju', 'udang rambutan', 'siomay', 'mie setan', 'mie angel']\n",
      "Menu minuman lama: ['thai green tea', 'thai tea ori', 'teh', 'lemon tea', 'vanila latte', 'orange', 'milo']\n",
      "----------------------------------------------------------------------------------------------------\n",
      "Menu makanan ter-update ['mie iblis', 'udang keju', 'spicy honey chicken', 'siomay', 'mie setan', 'mie angel', 'lumpia udang']\n",
      "Menu minuman ter-update ['thai green tea', 'thai tea ori', 'teh', 'lemon tea', 'vanila latte', 'milk sunderbolong', 'milo', 'cokelat']\n",
      "----------------------------------------------------------------------------------------------------\n",
      "Menu makanan yang dihilangkan: lumpia udang\n",
      "----------------------------------------------------------------------------------------------------\n",
      "Makanan terbaru:  ['mie iblis', 'udang keju', 'spicy honey chicken', 'siomay', 'mie setan', 'mie angel']\n",
      "Minuman terbaru:  ['thai green tea', 'thai tea ori', 'teh', 'lemon tea', 'vanila latte', 'milk sunderbolong', 'milo', 'cokelat']\n",
      "Level kepedasan terbaru:  [1, 2, 3, 4, 5, 6, 7, 8, 9, 10, 'level dewa']\n"
     ]
    }
   ],
   "source": [
    "print(\"Daftar makanan dan minuman ter-update: \")\n",
    "#Terurut/ordered\n",
    "print(\"Menu makanan lama:\",L1[0:6])\n",
    "print(\"Menu minuman lama:\",L2[0:7])\n",
    "print('-'*100)\n",
    "\n",
    "#Bisa diganti multable\n",
    "L1[2] ='spicy honey chicken'\n",
    "L2[5] ='milk sunderbolong'\n",
    "print(\"Menu makanan ter-update\",L1)\n",
    "print(\"Menu minuman ter-update\",L2)\n",
    "print('-'*100)\n",
    "\n",
    "#Dapat diindeks/slicing \n",
    "print(\"Menu makanan yang dihilangkan:\",L1[6])\n",
    "print('-'*100)\n",
    "\n",
    "#Dapat diijinkan duplikasi\n",
    "L1 = ['mie iblis','udang keju','spicy honey chicken','siomay','mie setan','mie angel']\n",
    "L2 = ['thai green tea','thai tea ori','teh','lemon tea','vanila latte','milk sunderbolong','milo','cokelat'] \n",
    "L3 = [1,2,3,4,5,6,7,8,9,10,'level dewa']\n",
    "print(\"Makanan terbaru: \",L1)\n",
    "print(\"Minuman terbaru: \",L2)\n",
    "print(\"Level kepedasan terbaru: \",L3)"
   ]
  }
 ],
 "metadata": {
  "colab": {
   "name": "Untitled13.ipynb",
   "provenance": []
  },
  "kernelspec": {
   "display_name": "Python 3",
   "language": "python",
   "name": "python3"
  },
  "language_info": {
   "codemirror_mode": {
    "name": "ipython",
    "version": 3
   },
   "file_extension": ".py",
   "mimetype": "text/x-python",
   "name": "python",
   "nbconvert_exporter": "python",
   "pygments_lexer": "ipython3",
   "version": "3.7.4"
  }
 },
 "nbformat": 4,
 "nbformat_minor": 1
}
