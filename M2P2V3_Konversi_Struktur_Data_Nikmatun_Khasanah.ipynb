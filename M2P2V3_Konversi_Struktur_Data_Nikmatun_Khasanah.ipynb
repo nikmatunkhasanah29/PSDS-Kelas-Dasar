{
 "cells": [
  {
   "cell_type": "markdown",
   "metadata": {
    "id": "lYohf5vvNcZp"
   },
   "source": [
    "Oleh : Nikmatun Khasanah (1915015027)"
   ]
  },
  {
   "cell_type": "markdown",
   "metadata": {
    "id": "vRAqfY0hhfnS"
   },
   "source": [
    "Konversi Struktur Data"
   ]
  },
  {
   "cell_type": "markdown",
   "metadata": {
    "id": "znD4uK0PNibl"
   },
   "source": [
    "```\n",
    "Fungsi untuk mengubah/konversi struktur data:\n",
    "1. list() : untuk mengubah menjadi list\n",
    "2. tuple(): untuk mengubah menjadi tuple\n",
    "3. set()  : untuk mengubah menjadi set\n",
    "4. dict() : untuk mengubah menjadi dictionary\n",
    "```"
   ]
  },
  {
   "cell_type": "markdown",
   "metadata": {
    "id": "sHWMpEeJNrg7"
   },
   "source": [
    "Mengkonversi tipe data list"
   ]
  },
  {
   "cell_type": "code",
   "execution_count": 28,
   "metadata": {
    "id": "rKr5Q-VLNoyz"
   },
   "outputs": [],
   "source": [
    "#Membuat 2 list\n",
    "L1 = [1,2,3,4]\n",
    "L2 = [5,6,7,8]"
   ]
  },
  {
   "cell_type": "code",
   "execution_count": 29,
   "metadata": {
    "colab": {
     "base_uri": "https://localhost:8080/"
    },
    "id": "XfA_GysyN108",
    "outputId": "ce52137d-6ce3-4e00-d386-d7b6a4542cf9"
   },
   "outputs": [
    {
     "name": "stdout",
     "output_type": "stream",
     "text": [
      "(1, 2, 3, 4)\n",
      "{8, 5, 6, 7}\n",
      "{1: 5, 2: 6, 3: 7, 4: 8}\n"
     ]
    }
   ],
   "source": [
    "#Mengkonversi struktur data list\n",
    "k_tuple = tuple(L1)\n",
    "k_set = set(L2)\n",
    "k_dict = dict(zip(L1,L2))\n",
    "\n",
    "#melihat data yang telah dikonversi\n",
    "print(k_tuple)\n",
    "print(k_set)\n",
    "print(k_dict)"
   ]
  },
  {
   "cell_type": "markdown",
   "metadata": {
    "id": "OP0UrzN5N-YF"
   },
   "source": [
    "Mengkonversi tipe data tuple"
   ]
  },
  {
   "cell_type": "code",
   "execution_count": 30,
   "metadata": {
    "id": "9OSVmb37OCa_"
   },
   "outputs": [],
   "source": [
    "#Membuat 2 tuple\n",
    "T1 = (1,2,3,4)\n",
    "T2 = (5,6,7,8)"
   ]
  },
  {
   "cell_type": "code",
   "execution_count": 31,
   "metadata": {
    "colab": {
     "base_uri": "https://localhost:8080/"
    },
    "id": "5ikuu4VMOXqW",
    "outputId": "50e53899-52cf-44cb-ec91-ad654ba28699"
   },
   "outputs": [
    {
     "name": "stdout",
     "output_type": "stream",
     "text": [
      "[1, 2, 3, 4]\n",
      "{8, 5, 6, 7}\n",
      "{1: 5, 2: 6, 3: 7, 4: 8}\n"
     ]
    }
   ],
   "source": [
    "#Mengkonversi struktur data tuple\n",
    "k_list = list(T1)\n",
    "k_set = set(T2)\n",
    "k_dict = dict(zip(T1,T2))\n",
    "\n",
    "#melihat data yang telah dikonversi\n",
    "print(k_list)\n",
    "print(k_set)\n",
    "print(k_dict)"
   ]
  },
  {
   "cell_type": "markdown",
   "metadata": {
    "id": "s5hbqauvOrCy"
   },
   "source": [
    "Mengkonversi tipe data set"
   ]
  },
  {
   "cell_type": "code",
   "execution_count": 32,
   "metadata": {
    "id": "-RjnL2DpOvGj"
   },
   "outputs": [],
   "source": [
    "#Membuat 2 set\n",
    "S1 = {1,2,3,4}\n",
    "S2 = {5,6,7,8}"
   ]
  },
  {
   "cell_type": "code",
   "execution_count": 33,
   "metadata": {
    "colab": {
     "base_uri": "https://localhost:8080/"
    },
    "id": "nP5eT5Y6OzVb",
    "outputId": "122e02a8-b57d-460e-811e-3a9e41bb54ac"
   },
   "outputs": [
    {
     "name": "stdout",
     "output_type": "stream",
     "text": [
      "[1, 2, 3, 4]\n",
      "(8, 5, 6, 7)\n",
      "{1: 8, 2: 5, 3: 6, 4: 7}\n"
     ]
    }
   ],
   "source": [
    "#Mengkonversi struktur data set\n",
    "k_list = list(S1)\n",
    "k_tuple = tuple(S2)\n",
    "k_dict = dict(zip(S1,S2))\n",
    "\n",
    "#melihat data yang telah dikonversi\n",
    "print(k_list)\n",
    "print(k_tuple)\n",
    "print(k_dict)"
   ]
  },
  {
   "cell_type": "markdown",
   "metadata": {
    "id": "T9i5appwPDAP"
   },
   "source": [
    "Mengkonversi tipe data dictionary"
   ]
  },
  {
   "cell_type": "code",
   "execution_count": 34,
   "metadata": {
    "id": "yAfjfxBePNVF"
   },
   "outputs": [],
   "source": [
    "D = {\n",
    "    \"nama\":\"Andi\",\n",
    "    \"alamat\":\"Yogyakarta\",\n",
    "    \"umur\":20\n",
    "}"
   ]
  },
  {
   "cell_type": "code",
   "execution_count": 35,
   "metadata": {
    "colab": {
     "base_uri": "https://localhost:8080/"
    },
    "id": "_eM7THxnQOU8",
    "outputId": "52e7b138-5242-4a0d-bd7d-9086679cbffc"
   },
   "outputs": [
    {
     "name": "stdout",
     "output_type": "stream",
     "text": [
      "['nama', 'alamat', 'umur']\n",
      "('Andi', 'Yogyakarta', 20)\n",
      "{'alamat', 'nama', 'umur'}\n"
     ]
    }
   ],
   "source": [
    "#Mengkonversi struktur data dictionary dari key dan value nya\n",
    "k_list = list(D.keys())\n",
    "k_tuple = tuple(D.values())\n",
    "k_set = set(D.keys())\n",
    "\n",
    "#melihat data yang telah dikonversi\n",
    "print(k_list)\n",
    "print(k_tuple)\n",
    "print(k_set)"
   ]
  },
  {
   "cell_type": "markdown",
   "metadata": {
    "id": "YT40qbjkSLkU"
   },
   "source": [
    "Latihan"
   ]
  },
  {
   "cell_type": "markdown",
   "metadata": {
    "id": "6xl-H1h1Xul_"
   },
   "source": [
    "Konversi struktur data dictionary"
   ]
  },
  {
   "cell_type": "code",
   "execution_count": 36,
   "metadata": {
    "id": "VGJPm2dTSN8m"
   },
   "outputs": [],
   "source": [
    "M1 = {\n",
    "    'Nama':'Alifa',\n",
    "    'Umur':5,\n",
    "    'Hobi':'Bersepeda',\n",
    "    'Makanan kesukaan':['telor ceplok','mie goreng','bakso'],\n",
    "    'Sudah sekolah':True\n",
    "    }"
   ]
  },
  {
   "cell_type": "code",
   "execution_count": 37,
   "metadata": {
    "colab": {
     "base_uri": "https://localhost:8080/"
    },
    "id": "aiCfhYA1XoGH",
    "outputId": "41d005cb-15a4-4e8a-8068-c3a0e3033ce0"
   },
   "outputs": [
    {
     "name": "stdout",
     "output_type": "stream",
     "text": [
      "['Nama', 'Umur', 'Hobi', 'Makanan kesukaan', 'Sudah sekolah']\n",
      "('Alifa', 5, 'Bersepeda', ['telor ceplok', 'mie goreng', 'bakso'], True)\n",
      "{'Makanan kesukaan', 'Nama', 'Umur', 'Hobi', 'Sudah sekolah'}\n"
     ]
    }
   ],
   "source": [
    "#Mengkonversi struktur data dictionary dari key dan value nya\n",
    "k_list = list(M1.keys())\n",
    "k_tuple = tuple(M1.values())\n",
    "k_set = set(M1.keys())\n",
    "\n",
    "#melihat data yang telah dikonversi\n",
    "print(k_list)\n",
    "print(k_tuple)\n",
    "print(k_set)"
   ]
  },
  {
   "cell_type": "markdown",
   "metadata": {
    "id": "aGFT0NvFYsPH"
   },
   "source": [
    "Konversi Tipe data set"
   ]
  },
  {
   "cell_type": "code",
   "execution_count": 38,
   "metadata": {
    "id": "qJVuXDzUYwtP"
   },
   "outputs": [],
   "source": [
    "A = {1,3,4,6,8}\n",
    "B = {2,3,6,7,9}"
   ]
  },
  {
   "cell_type": "code",
   "execution_count": 39,
   "metadata": {
    "colab": {
     "base_uri": "https://localhost:8080/"
    },
    "id": "2CesukqoY4ph",
    "outputId": "af3203ac-55f0-47b6-ed93-5abdc4e05864"
   },
   "outputs": [
    {
     "name": "stdout",
     "output_type": "stream",
     "text": [
      "[1, 3, 4, 6, 8]\n",
      "(2, 3, 6, 7, 9)\n",
      "{1: 2, 3: 3, 4: 6, 6: 7, 8: 9}\n"
     ]
    }
   ],
   "source": [
    "#Mengkonversi struktur data set\n",
    "k_list = list(A)\n",
    "k_tuple = tuple(B)\n",
    "k_dict = dict(zip(A,B))\n",
    "\n",
    "#melihat data yang telah dikonversi\n",
    "print(k_list)\n",
    "print(k_tuple)\n",
    "print(k_dict)"
   ]
  },
  {
   "cell_type": "markdown",
   "metadata": {
    "id": "oUHdcxKHZQMm"
   },
   "source": [
    "Konversi Tipe data List"
   ]
  },
  {
   "cell_type": "code",
   "execution_count": 40,
   "metadata": {
    "id": "uCZMWqLgaDH4"
   },
   "outputs": [],
   "source": [
    "L1 = ['mie iblis','udang keju','udang rambutan','siomay','mie setan','mie angel','lumpia udang']\n",
    "L2 = [1,2,3,4,5,6,7,8]"
   ]
  },
  {
   "cell_type": "code",
   "execution_count": 41,
   "metadata": {
    "colab": {
     "base_uri": "https://localhost:8080/"
    },
    "id": "Ntdm_KUIaK6r",
    "outputId": "54da73bb-7661-43e6-db49-33c497a725b2"
   },
   "outputs": [
    {
     "name": "stdout",
     "output_type": "stream",
     "text": [
      "('mie iblis', 'udang keju', 'udang rambutan', 'siomay', 'mie setan', 'mie angel', 'lumpia udang')\n",
      "{1, 2, 3, 4, 5, 6, 7, 8}\n",
      "{'mie iblis': 1, 'udang keju': 2, 'udang rambutan': 3, 'siomay': 4, 'mie setan': 5, 'mie angel': 6, 'lumpia udang': 7}\n"
     ]
    }
   ],
   "source": [
    "#Mengkonversi struktur data list\n",
    "k_tuple = tuple(L1)\n",
    "k_set = set(L2)\n",
    "k_dict = dict(zip(L1,L2))\n",
    "\n",
    "#melihat data yang telah dikonversi\n",
    "print(k_tuple)\n",
    "print(k_set)\n",
    "print(k_dict)"
   ]
  },
  {
   "cell_type": "markdown",
   "metadata": {
    "id": "nWPfsSOOaU4p"
   },
   "source": [
    "Konversi Tipe data Tuple"
   ]
  },
  {
   "cell_type": "code",
   "execution_count": 42,
   "metadata": {
    "id": "JXG5GMsGaZf7"
   },
   "outputs": [],
   "source": [
    "T1 = (1,2,3,4,5.5,6,False,8,9,2+9j)\n",
    "T2 = ('mawar','melati','anggrek')"
   ]
  },
  {
   "cell_type": "code",
   "execution_count": 43,
   "metadata": {
    "colab": {
     "base_uri": "https://localhost:8080/"
    },
    "id": "MJwJCVvCawMw",
    "outputId": "95f22dfb-a773-4457-8670-f9341c05e597"
   },
   "outputs": [
    {
     "name": "stdout",
     "output_type": "stream",
     "text": [
      "[1, 2, 3, 4, 5.5, 6, False, 8, 9, (2+9j)]\n",
      "{'melati', 'anggrek', 'mawar'}\n",
      "{1: 'mawar', 2: 'melati', 3: 'anggrek'}\n"
     ]
    }
   ],
   "source": [
    "#Mengkonversi struktur data tuple\n",
    "k_list = list(T1)\n",
    "k_set = set(T2)\n",
    "k_dict = dict(zip(T1,T2))\n",
    "\n",
    "#melihat data yang telah dikonversi\n",
    "print(k_list)\n",
    "print(k_set)\n",
    "print(k_dict)"
   ]
  }
 ],
 "metadata": {
  "colab": {
   "name": "Untitled19.ipynb",
   "provenance": []
  },
  "kernelspec": {
   "display_name": "Python 3",
   "language": "python",
   "name": "python3"
  },
  "language_info": {
   "codemirror_mode": {
    "name": "ipython",
    "version": 3
   },
   "file_extension": ".py",
   "mimetype": "text/x-python",
   "name": "python",
   "nbconvert_exporter": "python",
   "pygments_lexer": "ipython3",
   "version": "3.7.4"
  }
 },
 "nbformat": 4,
 "nbformat_minor": 1
}
