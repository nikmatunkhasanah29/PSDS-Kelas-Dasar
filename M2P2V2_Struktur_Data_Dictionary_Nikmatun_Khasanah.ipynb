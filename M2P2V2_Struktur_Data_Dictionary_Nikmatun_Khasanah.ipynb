{
 "cells": [
  {
   "cell_type": "markdown",
   "metadata": {
    "id": "L3lpiHe2wdU4"
   },
   "source": [
    "Oleh : Nikmatun Khasanah (1915015027)"
   ]
  },
  {
   "cell_type": "markdown",
   "metadata": {
    "id": "D5O-qG1IhLuA"
   },
   "source": [
    "Data Dictionary"
   ]
  },
  {
   "cell_type": "markdown",
   "metadata": {
    "id": "MRTFJKuVxEwn"
   },
   "source": [
    "Dictionary adalah kumpulan pasangan kunci-nilai (pair of key-value)yang bersifat tidak berurutan. Dictionary dapat digunakan untuk menyimpan data kecil hingga besar. Untuk mengakses datanya kita harus mengetahui kuncinya (key) terlebih dahulu. Dictionary didefinisikan dengan kurawal dan tambahan definisi berikut:\n",
    "1. Setiap elemen pair key-value dipisahkan dengan koma (,)\n",
    "2. Key dan value dipisahkan dengan titik dua (:)\n",
    "3. Key dan value dapat berupa tipe variabel/obyek apapun "
   ]
  },
  {
   "cell_type": "code",
   "execution_count": 8,
   "metadata": {
    "id": "-bRqAH2jyjbT"
   },
   "outputs": [],
   "source": [
    "L1 = [1,'dua',True,(2+3j),(2+3j)]"
   ]
  },
  {
   "cell_type": "code",
   "execution_count": 9,
   "metadata": {
    "colab": {
     "base_uri": "https://localhost:8080/"
    },
    "id": "xASvK95zAigo",
    "outputId": "858b52e2-f4d5-4f8b-ef0a-221af15f10d7"
   },
   "outputs": [
    {
     "data": {
      "text/plain": [
       "[1, 'dua', True, (2+3j), (2+3j)]"
      ]
     },
     "execution_count": 9,
     "metadata": {},
     "output_type": "execute_result"
    }
   ],
   "source": [
    "L1"
   ]
  },
  {
   "cell_type": "code",
   "execution_count": 10,
   "metadata": {
    "colab": {
     "base_uri": "https://localhost:8080/"
    },
    "id": "vhJc2A_c1JeW",
    "outputId": "137353ee-fe72-4b7b-d040-ee416b63cfdf"
   },
   "outputs": [
    {
     "data": {
      "text/plain": [
       "1"
      ]
     },
     "execution_count": 10,
     "metadata": {},
     "output_type": "execute_result"
    }
   ],
   "source": [
    "L1[0]"
   ]
  },
  {
   "cell_type": "code",
   "execution_count": 11,
   "metadata": {
    "colab": {
     "base_uri": "https://localhost:8080/"
    },
    "id": "vsZkQ8CCA2pf",
    "outputId": "504d761f-7a36-4904-f22a-e02dfc624da6"
   },
   "outputs": [
    {
     "name": "stdout",
     "output_type": "stream",
     "text": [
      "{1: 'Value', 'Key': 2}\n"
     ]
    }
   ],
   "source": [
    "#Contoh dictionary\n",
    "D1 = {1:'Value','Key':2}\n",
    "\n",
    "print(D1)"
   ]
  },
  {
   "cell_type": "code",
   "execution_count": 12,
   "metadata": {
    "colab": {
     "base_uri": "https://localhost:8080/"
    },
    "id": "fv8iHSv0BXtV",
    "outputId": "15a47feb-dfa4-4026-b1c3-00d2ee167082"
   },
   "outputs": [
    {
     "data": {
      "text/plain": [
       "2"
      ]
     },
     "execution_count": 12,
     "metadata": {},
     "output_type": "execute_result"
    }
   ],
   "source": [
    "D1['Key']"
   ]
  },
  {
   "cell_type": "code",
   "execution_count": 13,
   "metadata": {
    "colab": {
     "base_uri": "https://localhost:8080/"
    },
    "id": "lsczJdKcBe4u",
    "outputId": "a6f09c71-a007-4118-fd73-203f4fb3d015"
   },
   "outputs": [
    {
     "name": "stdout",
     "output_type": "stream",
     "text": [
      "D1['Key']: 2\n"
     ]
    }
   ],
   "source": [
    "#Memanggil elemen berdasarkan key\n",
    "print(\"D1['Key']:\",D1['Key'])"
   ]
  },
  {
   "cell_type": "code",
   "execution_count": 14,
   "metadata": {
    "colab": {
     "base_uri": "https://localhost:8080/",
     "height": 36
    },
    "id": "Ku-WHX0aCYC8",
    "outputId": "80e4476f-2d5f-41ed-aaff-376cfb009fb8"
   },
   "outputs": [
    {
     "data": {
      "application/vnd.google.colaboratory.intrinsic+json": {
       "type": "string"
      },
      "text/plain": [
       "'Value'"
      ]
     },
     "execution_count": 14,
     "metadata": {},
     "output_type": "execute_result"
    }
   ],
   "source": [
    "D1[1]"
   ]
  },
  {
   "cell_type": "markdown",
   "metadata": {
    "id": "lCJ_jpl8DIBP"
   },
   "source": [
    "Dictionary bukan termasuk dalam implementasi untuk (sequance), sehingga tidak bisa dipanggil dengan urutan indeks. Misalnya dalam contoh berikut dicoba dengan indeks 2, tetapi menghasilkan error (key-error) karena tidak ada kunci (key)2:"
   ]
  },
  {
   "cell_type": "code",
   "execution_count": 15,
   "metadata": {
    "colab": {
     "base_uri": "https://localhost:8080/",
     "height": 191
    },
    "id": "68BkjlsvD2Dp",
    "outputId": "ac48383f-9f23-45b8-e56b-f15b18b692c0"
   },
   "outputs": [
    {
     "ename": "KeyError",
     "evalue": "ignored",
     "output_type": "error",
     "traceback": [
      "\u001b[0;31m---------------------------------------------------------------------------\u001b[0m",
      "\u001b[0;31mKeyError\u001b[0m                                  Traceback (most recent call last)",
      "\u001b[0;32m<ipython-input-15-f08e36d8dab3>\u001b[0m in \u001b[0;36m<module>\u001b[0;34m()\u001b[0m\n\u001b[1;32m      1\u001b[0m \u001b[0;31m#Contoh error\u001b[0m\u001b[0;34m\u001b[0m\u001b[0;34m\u001b[0m\u001b[0;34m\u001b[0m\u001b[0m\n\u001b[0;32m----> 2\u001b[0;31m \u001b[0mprint\u001b[0m\u001b[0;34m(\u001b[0m\u001b[0;34m\"D1[2]:\"\u001b[0m\u001b[0;34m,\u001b[0m\u001b[0mD1\u001b[0m\u001b[0;34m[\u001b[0m\u001b[0;36m2\u001b[0m\u001b[0;34m]\u001b[0m\u001b[0;34m)\u001b[0m\u001b[0;34m\u001b[0m\u001b[0;34m\u001b[0m\u001b[0m\n\u001b[0m",
      "\u001b[0;31mKeyError\u001b[0m: 2"
     ]
    }
   ],
   "source": [
    "#Contoh error\n",
    "print(\"D1[2]:\",D1[2])"
   ]
  },
  {
   "cell_type": "markdown",
   "metadata": {
    "id": "PfSVboRuEG7a"
   },
   "source": [
    "Latihan"
   ]
  },
  {
   "cell_type": "code",
   "execution_count": 17,
   "metadata": {
    "colab": {
     "base_uri": "https://localhost:8080/"
    },
    "id": "XWMXayE2EJFv",
    "outputId": "36761184-e61b-4d04-edd7-e6bfbd66d5fd"
   },
   "outputs": [
    {
     "data": {
      "text/plain": [
       "{'Hobi': 'Bersepeda',\n",
       " 'Makanan kesukaan': ['telor ceplok', 'mie goreng', 'bakso'],\n",
       " 'Nama': 'Alifa',\n",
       " 'Sudah sekolah': True,\n",
       " 'Umur': 5}"
      ]
     },
     "execution_count": 17,
     "metadata": {},
     "output_type": "execute_result"
    }
   ],
   "source": [
    "#Membuat struktur data dictionary\n",
    "M1 = {\n",
    "    'Nama':'Alifa',\n",
    "    'Umur':5,\n",
    "    'Hobi':'Bersepeda',\n",
    "    'Makanan kesukaan':['telor ceplok','mie goreng','bakso'],\n",
    "    'Sudah sekolah':True\n",
    "    }\n",
    "M1"
   ]
  },
  {
   "cell_type": "code",
   "execution_count": 20,
   "metadata": {
    "colab": {
     "base_uri": "https://localhost:8080/"
    },
    "id": "ztQuY47wHnQk",
    "outputId": "e854577d-f3b3-45b3-86ba-e86545619f34"
   },
   "outputs": [
    {
     "name": "stdout",
     "output_type": "stream",
     "text": [
      "Nama saya adalah: Alifa\n",
      "Makanan kesukaan saya adalah: ['telor ceplok', 'mie goreng', 'bakso']\n"
     ]
    }
   ],
   "source": [
    "#Memanggil salah satu yang dibuat\n",
    "print(\"Nama saya adalah:\",M1['Nama'])\n",
    "print(\"Makanan kesukaan saya adalah:\",M1['Makanan kesukaan'])"
   ]
  }
 ],
 "metadata": {
  "colab": {
   "name": "Untitled17.ipynb",
   "provenance": []
  },
  "kernelspec": {
   "display_name": "Python 3",
   "language": "python",
   "name": "python3"
  },
  "language_info": {
   "codemirror_mode": {
    "name": "ipython",
    "version": 3
   },
   "file_extension": ".py",
   "mimetype": "text/x-python",
   "name": "python",
   "nbconvert_exporter": "python",
   "pygments_lexer": "ipython3",
   "version": "3.7.4"
  }
 },
 "nbformat": 4,
 "nbformat_minor": 1
}
