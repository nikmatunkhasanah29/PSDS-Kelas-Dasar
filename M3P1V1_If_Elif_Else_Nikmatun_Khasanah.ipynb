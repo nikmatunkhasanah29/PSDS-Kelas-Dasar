{
 "cells": [
  {
   "cell_type": "markdown",
   "metadata": {
    "id": "Kr2asocMNvgm"
   },
   "source": [
    "**Percabangan/Struktur Pemilihan**"
   ]
  },
  {
   "cell_type": "markdown",
   "metadata": {
    "id": "hRbXx5XkODwk"
   },
   "source": [
    "Keputusan dalam bahasa python menggunakan struktur percabangan/if else statement. Pengambilan keputusan dibutuhkan ketika akan mengeksekusi suatu kode jika kondisi tertentu dipenuhi.  "
   ]
  },
  {
   "cell_type": "markdown",
   "metadata": {
    "id": "a9uQetzjPS0g"
   },
   "source": [
    "**IF Statement**"
   ]
  },
  {
   "cell_type": "markdown",
   "metadata": {
    "id": "UmkQ2FBuSWNK"
   },
   "source": [
    "```\n",
    "if test expession:\n",
    "    statement(s)\n",
    "```"
   ]
  },
  {
   "cell_type": "markdown",
   "metadata": {
    "id": "7kP1gG_DPaKQ"
   },
   "source": [
    "**Contoh** python if statement\n"
   ]
  },
  {
   "cell_type": "code",
   "execution_count": 4,
   "metadata": {
    "colab": {
     "base_uri": "https://localhost:8080/"
    },
    "id": "jW3ZtbYGTB14",
    "outputId": "8579ac1a-740f-4b62-fdf4-ca5d9ff58290"
   },
   "outputs": [
    {
     "name": "stdout",
     "output_type": "stream",
     "text": [
      "3 adalah bilangan positif\n",
      "Penyataan ini selalu ditamplkan\n"
     ]
    }
   ],
   "source": [
    "#jika angka adalah bilangan positif maka print \"adalah blangan positif\"\n",
    "angka = 3\n",
    "if angka > 0:\n",
    "  print(angka,\"adalah bilangan positif\")\n",
    "print(\"Penyataan ini selalu ditamplkan\")"
   ]
  },
  {
   "cell_type": "code",
   "execution_count": 5,
   "metadata": {
    "colab": {
     "base_uri": "https://localhost:8080/"
    },
    "id": "BfPstwZJUNDu",
    "outputId": "06921882-af8b-490b-d1cb-6a780e69fd2a"
   },
   "outputs": [
    {
     "name": "stdout",
     "output_type": "stream",
     "text": [
      "Penyataan ini selalu ditamplkan\n"
     ]
    }
   ],
   "source": [
    "angka = -1\n",
    "if angka > 0:\n",
    "  print(angka,\"adalah bilangan positif\")\n",
    "print(\"Penyataan ini selalu ditamplkan\")"
   ]
  },
  {
   "cell_type": "markdown",
   "metadata": {
    "id": "a5jiWnxiUhNW"
   },
   "source": [
    "**IF ELSE STATEMENT**"
   ]
  },
  {
   "cell_type": "markdown",
   "metadata": {
    "id": "BxaL_oXHUo5R"
   },
   "source": [
    "```\n",
    "Syntax dalam python\n",
    "if test expression:\n",
    "    Body of if\n",
    "else:\n",
    "    Body of else\n",
    "```"
   ]
  },
  {
   "cell_type": "markdown",
   "metadata": {
    "id": "jKohFkjtVBJV"
   },
   "source": [
    "**Contoh** python if else statement"
   ]
  },
  {
   "cell_type": "code",
   "execution_count": 6,
   "metadata": {
    "colab": {
     "base_uri": "https://localhost:8080/"
    },
    "id": "RPNpAdVEVPlz",
    "outputId": "9b2dd78c-eb36-43bf-bcd2-f85076d1a95a"
   },
   "outputs": [
    {
     "name": "stdout",
     "output_type": "stream",
     "text": [
      "Bilangan lebih dari atau samadengan 0\n"
     ]
    }
   ],
   "source": [
    "#Program disusun untuk mengecek apakah angka tersebut kurang dari 0 atau tidak\n",
    "#Menampilkan tulisan yang sesuai\n",
    "\n",
    "angka = 3\n",
    "if angka >= 0:\n",
    "  print(\"Bilangan lebih dari atau samadengan 0\")\n",
    "else:\n",
    "  print(\"Bilangan kurang dari 0\")"
   ]
  },
  {
   "cell_type": "code",
   "execution_count": 7,
   "metadata": {
    "colab": {
     "base_uri": "https://localhost:8080/"
    },
    "id": "D9r957BUW7Gb",
    "outputId": "c89f3b71-6056-49b0-ec02-c7cbe4ba53a1"
   },
   "outputs": [
    {
     "name": "stdout",
     "output_type": "stream",
     "text": [
      "a dan b bernilai sama\n"
     ]
    }
   ],
   "source": [
    "#Program disusun untuk mengecek apakah dua buah angka sama atau tidak\n",
    "#Menampilkan tulisan yang sesuai\n",
    "a = 5\n",
    "b = 5\n",
    "\n",
    "if a == b:\n",
    "  print(\"a dan b bernilai sama\")\n",
    "else:\n",
    "  print(\"a dan b bernilai berbeda\")\n",
    "  print(\"Belajar If Else\")"
   ]
  },
  {
   "cell_type": "code",
   "execution_count": 8,
   "metadata": {
    "colab": {
     "base_uri": "https://localhost:8080/"
    },
    "id": "ZYOkh9NEXtS1",
    "outputId": "9302f990-2855-4d5c-bfac-758139976b06"
   },
   "outputs": [
    {
     "name": "stdout",
     "output_type": "stream",
     "text": [
      "Masukkan bilangan pertama:100\n",
      "Masukkan bilangan kedua:300\n",
      "Bilangan yang lebih besar adalah: 300\n"
     ]
    }
   ],
   "source": [
    "#Program disusun untuk mengecek perbandingan dua buah angka\n",
    "#Menampilkan tulisan yang sesuai\n",
    "\n",
    "#Membaca dua angka\n",
    "bil1 = int(input(\"Masukkan bilangan pertama:\"))\n",
    "bil2 = int(input(\"Masukkan bilangan kedua:\"))\n",
    "\n",
    "#Memilih bilangan yang lebih besar\n",
    "if bil1 > bil2:\n",
    "  bil_lebihbesar = bil1\n",
    "else:\n",
    "  bil_lebihbesar = bil2 \n",
    "\n",
    "#Menampilkan hasil\n",
    "print(\"Bilangan yang lebih besar adalah:\",bil_lebihbesar)"
   ]
  },
  {
   "cell_type": "markdown",
   "metadata": {
    "id": "ZBzc34bdZyS_"
   },
   "source": [
    "**IF ELIF ELSE STATEMENT**"
   ]
  },
  {
   "cell_type": "markdown",
   "metadata": {
    "id": "2o9OhPkraBx1"
   },
   "source": [
    "```\n",
    "Syntax dalam python\n",
    "if test expression:\n",
    "    Body of if\n",
    "elif test expression:\n",
    "    Body of elif\n",
    "else:\n",
    "    Body of else\n",
    "```"
   ]
  },
  {
   "cell_type": "code",
   "execution_count": 10,
   "metadata": {
    "colab": {
     "base_uri": "https://localhost:8080/"
    },
    "id": "ONfwoRi8Z_GL",
    "outputId": "d622173c-6b7f-4c34-99d7-34c6d302fe96"
   },
   "outputs": [
    {
     "name": "stdout",
     "output_type": "stream",
     "text": [
      "Bilangan positif\n"
     ]
    }
   ],
   "source": [
    "#Program disusun untuk mengecek apakah angka merupakan bilangan positif , negatif atau nol\n",
    "#Menampilkan tulisan yang sesuai\n",
    "\n",
    "angka = 3.5\n",
    "if angka > 0:\n",
    "  print(\"Bilangan positif\")\n",
    "elif num == 0:\n",
    "  print (\"Nol\")\n",
    "else:\n",
    "  print(\"Bilangan negatif\")"
   ]
  },
  {
   "cell_type": "code",
   "execution_count": 11,
   "metadata": {
    "colab": {
     "base_uri": "https://localhost:8080/"
    },
    "id": "nV-LW0WSbiew",
    "outputId": "063ef2f5-b479-4f40-f37d-8aae684620c4"
   },
   "outputs": [
    {
     "name": "stdout",
     "output_type": "stream",
     "text": [
      "x abis dibagi dua\n",
      "x tidak abis dibagi dua, tiga, ataupun lima\n"
     ]
    }
   ],
   "source": [
    "#Statement if\n",
    "x = 4\n",
    "if x%2 == 0:\n",
    "  print(\"x abis dibagi dua\")\n",
    "\n",
    "#statement if ... elif ... else\n",
    "x = 7\n",
    "if x%2 == 0:\n",
    "  print(\"x abis dibagi dua\")\n",
    "elif x%3 == 0:\n",
    "  print(\"x abis dibagi tiga\")\n",
    "elif x%5 == 0:\n",
    "  print(\"x abis dibagi lima\")\n",
    "else:\n",
    "  print(\"x tidak abis dibagi dua, tiga, ataupun lima\")"
   ]
  },
  {
   "cell_type": "markdown",
   "metadata": {
    "id": "3FoFZKK1dDXJ"
   },
   "source": [
    "**Python Nested If Statement**"
   ]
  },
  {
   "cell_type": "code",
   "execution_count": 13,
   "metadata": {
    "colab": {
     "base_uri": "https://localhost:8080/"
    },
    "id": "-EO80AHRdPFc",
    "outputId": "2f35bec3-0e68-45c3-d1a1-7c62535de69f"
   },
   "outputs": [
    {
     "name": "stdout",
     "output_type": "stream",
     "text": [
      "Masukkan angka:-1\n",
      "Bilangan negatif\n"
     ]
    }
   ],
   "source": [
    "#Program disusun untuk mengecek apakah angka merupakan bilangan positif , negatif atau nol\n",
    "#Menampilkan tulisan yang sesuai\n",
    "\n",
    "angka = float(input(\"Masukkan angka:\"))\n",
    "if angka >= 0:\n",
    "  if angka == 0:\n",
    "    print (\"Nol\")\n",
    "  else:\n",
    "    print(\"Bilangan positif\")\n",
    "else:\n",
    "  print(\"Bilangan negatif\")"
   ]
  },
  {
   "cell_type": "markdown",
   "metadata": {
    "id": "nREAuy7YeFSh"
   },
   "source": [
    "**LATIHAN**"
   ]
  },
  {
   "cell_type": "markdown",
   "metadata": {
    "id": "NdzHRyN5eKlH"
   },
   "source": [
    "Membuat fungsi 'Mahal_diskon' dengan ketentuan:\n",
    "\n",
    "\n",
    "1.   Input berupa data produk dengan tipe data numerik tunggal\n",
    "2.   Kategori input adalah 'Murah' dan 'Mahal',kemudian diskon ada 3 kategori yaitu '10%','20%' dan '40%'\n",
    "3.   Output pertama sebuah teks atau string yang menyatakan 'Mahal' atau 'Murah' dan keterangan 'Kamu dapat diskon'\n",
    "4.   Output kedua adalah harga yang perlu dibayarkan"
   ]
  },
  {
   "cell_type": "code",
   "execution_count": 41,
   "metadata": {
    "colab": {
     "base_uri": "https://localhost:8080/"
    },
    "id": "XV-GBlNDfzxO",
    "outputId": "d40e0497-bcda-4f29-8b7c-d74f1e046b67"
   },
   "outputs": [
    {
     "name": "stdout",
     "output_type": "stream",
     "text": [
      "___Toko Amanah Sejahtera___\n",
      "Harga baju:100000\n",
      "Banyaknya baju yang dibeli:3\n",
      "Harga baju termasuk murah\n",
      "Kamu dapat diskon, Horeeee :)\n",
      "Total yang harus dibayarkan adalah  Rp. 270000.0\n"
     ]
    }
   ],
   "source": [
    "print(\"___Toko Amanah Sejahtera___\")\n",
    "def total (harga,jumlah):\n",
    "  return harga*jumlah\n",
    "\n",
    "#Menginputkan data produk\n",
    "harga             = int(input(\"Harga baju:\"))\n",
    "jumlah            = int(input(\"Banyaknya baju yang dibeli:\"))\n",
    "Total             = total(harga,jumlah)\n",
    "\n",
    "#Memilih bilangan yang lebih besar\n",
    "if harga > 200000:\n",
    "  print('Harga baju termasuk mahal')\n",
    "else:\n",
    "  print('Harga baju termasuk murah')\n",
    "\n",
    "#Penetapan dapat/tidaknya diskon\n",
    "if Total >= 300000:\n",
    "  print(\"Kamu dapat diskon, Horeeee :)\")\n",
    "else:\n",
    "  print(\"Kamu tidak dapat diskon\")\n",
    "\n",
    "#Kriteria diskon 10%,20%,40%\n",
    "if Total >= 300000:\n",
    "  Total = Total-0.1*Total\n",
    "elif Total >= 500000:\n",
    "  Total = Total-0.2*Total\n",
    "elif Total >= 1000000:\n",
    "  Total = Total-0.4*Total \n",
    "else:\n",
    "  Total = Total\n",
    "\n",
    "print(\"Total yang harus dibayarkan adalah \",\"Rp.\",Total)"
   ]
  }
 ],
 "metadata": {
  "colab": {
   "name": "Untitled22.ipynb",
   "provenance": []
  },
  "kernelspec": {
   "display_name": "Python 3",
   "language": "python",
   "name": "python3"
  },
  "language_info": {
   "codemirror_mode": {
    "name": "ipython",
    "version": 3
   },
   "file_extension": ".py",
   "mimetype": "text/x-python",
   "name": "python",
   "nbconvert_exporter": "python",
   "pygments_lexer": "ipython3",
   "version": "3.7.4"
  }
 },
 "nbformat": 4,
 "nbformat_minor": 1
}
