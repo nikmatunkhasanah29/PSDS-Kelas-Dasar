{
 "cells": [
  {
   "cell_type": "markdown",
   "metadata": {
    "id": "a1O7D27ORpVA"
   },
   "source": [
    "Oleh : Nikmatun Khasanah (1915015027)"
   ]
  },
  {
   "cell_type": "markdown",
   "metadata": {
    "id": "8lXffetFh1fc"
   },
   "source": [
    "String"
   ]
  },
  {
   "cell_type": "markdown",
   "metadata": {
    "id": "t6-EwixoRtI9"
   },
   "source": [
    "Sring dideklarasikan dengan diampit oleh tanda petik"
   ]
  },
  {
   "cell_type": "code",
   "execution_count": 1,
   "metadata": {
    "colab": {
     "base_uri": "https://localhost:8080/"
    },
    "id": "Y08Ndsx0R0tC",
    "outputId": "e073f006-1fde-4556-fed3-4b00f0b5c8d6"
   },
   "outputs": [
    {
     "name": "stdout",
     "output_type": "stream",
     "text": [
      "Hallo world\n"
     ]
    }
   ],
   "source": [
    "#Menampilkan string dengan fungsi print()\n",
    "print(\"Hallo world\")"
   ]
  },
  {
   "cell_type": "code",
   "execution_count": 2,
   "metadata": {
    "colab": {
     "base_uri": "https://localhost:8080/"
    },
    "id": "MLUze93bSVJz",
    "outputId": "31a84109-444a-439b-e99e-85a28e83813b"
   },
   "outputs": [
    {
     "name": "stdout",
     "output_type": "stream",
     "text": [
      "Belajar struktur data string\n"
     ]
    }
   ],
   "source": [
    "#Membuat variabel bertipe string\n",
    "A = \"Belajar struktur data string\"\n",
    "print(A)"
   ]
  },
  {
   "cell_type": "code",
   "execution_count": 3,
   "metadata": {
    "colab": {
     "base_uri": "https://localhost:8080/"
    },
    "id": "bB_tEygMSl52",
    "outputId": "7221ea6a-e615-4aa8-8057-a7a5220312b9"
   },
   "outputs": [
    {
     "name": "stdout",
     "output_type": "stream",
     "text": [
      "Ayo belajar Python\n",
      "para Pejuang Data 3.0\n",
      "PSDS\n"
     ]
    }
   ],
   "source": [
    "#Membuat variabel string multi-line dengan 3 tanda petik\n",
    "B = \"\"\"Ayo belajar Python\n",
    "para Pejuang Data 3.0\n",
    "PSDS\"\"\"\n",
    "print(B)"
   ]
  },
  {
   "cell_type": "code",
   "execution_count": 18,
   "metadata": {
    "colab": {
     "base_uri": "https://localhost:8080/"
    },
    "id": "ZBl2tmL-TGst",
    "outputId": "5e378f36-9327-4c83-c09a-aba4a751f4f4"
   },
   "outputs": [
    {
     "name": "stdout",
     "output_type": "stream",
     "text": [
      "B\n"
     ]
    }
   ],
   "source": [
    "#Menampilkan karakter tertentu dalam string\n",
    "print(A[0])"
   ]
  },
  {
   "cell_type": "code",
   "execution_count": 24,
   "metadata": {
    "colab": {
     "base_uri": "https://localhost:8080/"
    },
    "id": "hYXb6CecTW8I",
    "outputId": "08c0bcad-b902-477b-d529-b4b03526c8d6"
   },
   "outputs": [
    {
     "name": "stdout",
     "output_type": "stream",
     "text": [
      "Belaj\n",
      "ajar struktur data string\n",
      "tring\n",
      "jar s\n",
      "elajar struktur data string\n",
      "elajar struktur data s\n",
      "elajar struktur data strin\n"
     ]
    }
   ],
   "source": [
    "#Slicing pada string\n",
    "A = \"Belajar struktur data string\"\n",
    "print(A[:5])\n",
    "print(A[3:])\n",
    "print(A[-5:])\n",
    "print(A[4:9])\n",
    "print(A[1:])\n",
    "print(A[1:23])\n",
    "print(A[1:27])"
   ]
  },
  {
   "cell_type": "markdown",
   "metadata": {
    "id": "a8aq34tfT8xR"
   },
   "source": [
    "Memodifikasi string"
   ]
  },
  {
   "cell_type": "code",
   "execution_count": 7,
   "metadata": {
    "colab": {
     "base_uri": "https://localhost:8080/",
     "height": 36
    },
    "id": "OITCu5EgUCab",
    "outputId": "494f61a4-eb5f-46b4-d19b-38c242c0b76a"
   },
   "outputs": [
    {
     "data": {
      "application/vnd.google.colaboratory.intrinsic+json": {
       "type": "string"
      },
      "text/plain": [
       "'BELAJAR STRUKTUR DATA STRING'"
      ]
     },
     "execution_count": 7,
     "metadata": {},
     "output_type": "execute_result"
    }
   ],
   "source": [
    "#upper()\n",
    "A.upper()"
   ]
  },
  {
   "cell_type": "code",
   "execution_count": 8,
   "metadata": {
    "colab": {
     "base_uri": "https://localhost:8080/",
     "height": 36
    },
    "id": "mpbe1U2tUNmY",
    "outputId": "ab6636cb-336b-496b-ef9f-34fb8c2207f8"
   },
   "outputs": [
    {
     "data": {
      "application/vnd.google.colaboratory.intrinsic+json": {
       "type": "string"
      },
      "text/plain": [
       "'belajar struktur data string'"
      ]
     },
     "execution_count": 8,
     "metadata": {},
     "output_type": "execute_result"
    }
   ],
   "source": [
    "#lower()\n",
    "A.lower()"
   ]
  },
  {
   "cell_type": "code",
   "execution_count": 9,
   "metadata": {
    "colab": {
     "base_uri": "https://localhost:8080/",
     "height": 36
    },
    "id": "K70uVXpBUooj",
    "outputId": "027c254e-9cdd-4c71-b9dc-612e67902d6c"
   },
   "outputs": [
    {
     "data": {
      "application/vnd.google.colaboratory.intrinsic+json": {
       "type": "string"
      },
      "text/plain": [
       "'Belajar struktur data string'"
      ]
     },
     "execution_count": 9,
     "metadata": {},
     "output_type": "execute_result"
    }
   ],
   "source": [
    "#strip()\n",
    "A.strip()"
   ]
  },
  {
   "cell_type": "code",
   "execution_count": 29,
   "metadata": {
    "colab": {
     "base_uri": "https://localhost:8080/",
     "height": 36
    },
    "id": "GTAca9hGUzrU",
    "outputId": "48d6e08f-67a0-45d7-ed7f-58524b16d2c8"
   },
   "outputs": [
    {
     "data": {
      "application/vnd.google.colaboratory.intrinsic+json": {
       "type": "string"
      },
      "text/plain": [
       "'Belajar struktur data strdng'"
      ]
     },
     "execution_count": 29,
     "metadata": {},
     "output_type": "execute_result"
    }
   ],
   "source": [
    "#replace()\n",
    "A.replace('i','d')"
   ]
  },
  {
   "cell_type": "code",
   "execution_count": 13,
   "metadata": {
    "colab": {
     "base_uri": "https://localhost:8080/"
    },
    "id": "slWXT4XDVImw",
    "outputId": "305c99e7-ef05-4565-b006-fb14922c774b"
   },
   "outputs": [
    {
     "data": {
      "text/plain": [
       "['Belajar', 'struktur', 'data', 'string']"
      ]
     },
     "execution_count": 13,
     "metadata": {},
     "output_type": "execute_result"
    }
   ],
   "source": [
    "#split()\n",
    "A.split()"
   ]
  },
  {
   "cell_type": "markdown",
   "metadata": {
    "id": "uM5vwsM7VUMc"
   },
   "source": [
    "Menggabungkan string"
   ]
  },
  {
   "cell_type": "code",
   "execution_count": 15,
   "metadata": {
    "colab": {
     "base_uri": "https://localhost:8080/",
     "height": 36
    },
    "id": "983mEH_2VaI4",
    "outputId": "ad7a4e9a-d2a1-4d58-a063-5b145443b0e0"
   },
   "outputs": [
    {
     "data": {
      "application/vnd.google.colaboratory.intrinsic+json": {
       "type": "string"
      },
      "text/plain": [
       "'Belajar struktur data string Pejuang data 3.0'"
      ]
     },
     "execution_count": 15,
     "metadata": {},
     "output_type": "execute_result"
    }
   ],
   "source": [
    "A = \"Belajar struktur data string\"\n",
    "B = \"Pejuang data 3.0\"\n",
    "A + \" \" +B"
   ]
  },
  {
   "cell_type": "markdown",
   "metadata": {
    "id": "q2KuFWpOV2gl"
   },
   "source": [
    "Latihan 1"
   ]
  },
  {
   "cell_type": "code",
   "execution_count": 16,
   "metadata": {
    "colab": {
     "base_uri": "https://localhost:8080/"
    },
    "id": "pzTLNfa9V4rx",
    "outputId": "a12210e2-87f8-4dff-c276-99cf09bfd03f"
   },
   "outputs": [
    {
     "name": "stdout",
     "output_type": "stream",
     "text": [
      "Ingat tugasmu masih banyak semangat\n"
     ]
    }
   ],
   "source": [
    "#Membuat variabel string lalu melakukan slicing dengan meenghilangkan karakter pertama dan terakhir \n",
    "N = \"Ingat tugasmu masih banyak semangat\"\n",
    "print(N)"
   ]
  },
  {
   "cell_type": "code",
   "execution_count": 28,
   "metadata": {
    "colab": {
     "base_uri": "https://localhost:8080/"
    },
    "id": "9kduZlf9YgZ1",
    "outputId": "1a540740-7b42-4adc-9799-c6c8f2e608e7"
   },
   "outputs": [
    {
     "name": "stdout",
     "output_type": "stream",
     "text": [
      "ngat tugasmu masih banyak semangat\n",
      "Ingat tugasmu masih banyak semanga\n",
      "ngat tugasmu masih banyak semanga\n"
     ]
    }
   ],
   "source": [
    "#Slicing pada string\n",
    "N = \"Ingat tugasmu masih banyak semangat\"\n",
    "print(N[1:])\n",
    "print(N[:34])\n",
    "print(N[1:34])"
   ]
  },
  {
   "cell_type": "markdown",
   "metadata": {
    "id": "P-CZBPTxWePz"
   },
   "source": [
    "Latihan 2"
   ]
  },
  {
   "cell_type": "code",
   "execution_count": 38,
   "metadata": {
    "colab": {
     "base_uri": "https://localhost:8080/"
    },
    "id": "QhQOITTXWJPX",
    "outputId": "c1ed7a20-3e04-49bf-ccba-30fdb7395af3"
   },
   "outputs": [
    {
     "name": "stdout",
     "output_type": "stream",
     "text": [
      "Ingit tigismi misih binyik simingit\n"
     ]
    }
   ],
   "source": [
    "#Mengganti semua huruf vokal menjadi \"i\" pada string yang telah dibuat pada latihan 1 \n",
    "#replace()\n",
    "N = N.replace('a','i')\n",
    "N = N.replace('u','i')\n",
    "N = N.replace('e','i')\n",
    "N = N.replace('o','i')\n",
    "\n",
    "print(N)"
   ]
  },
  {
   "cell_type": "markdown",
   "metadata": {
    "id": "-UMvS-8GgF5z"
   },
   "source": [
    "SELESAI:)"
   ]
  }
 ],
 "metadata": {
  "colab": {
   "name": "Untitled21.ipynb",
   "provenance": []
  },
  "kernelspec": {
   "display_name": "Python 3",
   "language": "python",
   "name": "python3"
  },
  "language_info": {
   "codemirror_mode": {
    "name": "ipython",
    "version": 3
   },
   "file_extension": ".py",
   "mimetype": "text/x-python",
   "name": "python",
   "nbconvert_exporter": "python",
   "pygments_lexer": "ipython3",
   "version": "3.7.4"
  }
 },
 "nbformat": 4,
 "nbformat_minor": 1
}
