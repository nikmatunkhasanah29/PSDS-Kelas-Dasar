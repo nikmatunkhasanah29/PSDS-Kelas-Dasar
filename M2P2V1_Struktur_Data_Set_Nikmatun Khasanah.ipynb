{
 "cells": [
  {
   "cell_type": "markdown",
   "metadata": {
    "id": "QO_6JQmgjb4L"
   },
   "source": [
    "Oleh : Nikmatun Khasanah (1915015027)"
   ]
  },
  {
   "cell_type": "markdown",
   "metadata": {
    "id": "yuLroKBGgvY8"
   },
   "source": [
    "SET"
   ]
  },
  {
   "cell_type": "markdown",
   "metadata": {
    "id": "_YvHJ5Ajjlpg"
   },
   "source": [
    "Set merupakan kumpulan sistem besifat unik dan tanpa urutan (unordered collection). Didefinisikan dengan kurawal  dan elemennya dipisahkan oleh koma. Pada set kita dapat melakukan union dan intersection , sekaligus otomatis melakukan penghapusan dan duplikat. "
   ]
  },
  {
   "cell_type": "code",
   "execution_count": 1,
   "metadata": {
    "colab": {
     "base_uri": "https://localhost:8080/"
    },
    "id": "dg5mUvorkaWd",
    "outputId": "d2f8182c-f82a-4641-a534-a69033e4d883"
   },
   "outputs": [
    {
     "name": "stdout",
     "output_type": "stream",
     "text": [
      "<class 'set'>\n"
     ]
    }
   ],
   "source": [
    "#Contoh set\n",
    "S1 = {1,\"dua\",True,2+3j}\n",
    "\n",
    "print(type(S1))"
   ]
  },
  {
   "cell_type": "code",
   "execution_count": 2,
   "metadata": {
    "colab": {
     "base_uri": "https://localhost:8080/",
     "height": 209
    },
    "id": "CI8IiaqUk1xD",
    "outputId": "8ba3f40b-5c5e-4633-e53c-c658f62ff9df"
   },
   "outputs": [
    {
     "ename": "TypeError",
     "evalue": "ignored",
     "output_type": "error",
     "traceback": [
      "\u001b[0;31m---------------------------------------------------------------------------\u001b[0m",
      "\u001b[0;31mTypeError\u001b[0m                                 Traceback (most recent call last)",
      "\u001b[0;32m<ipython-input-2-f7cf8a89cbec>\u001b[0m in \u001b[0;36m<module>\u001b[0;34m()\u001b[0m\n\u001b[1;32m      2\u001b[0m \u001b[0;34m\u001b[0m\u001b[0m\n\u001b[1;32m      3\u001b[0m \u001b[0;31m#Tida terurut (uordered)\u001b[0m\u001b[0;34m\u001b[0m\u001b[0;34m\u001b[0m\u001b[0;34m\u001b[0m\u001b[0m\n\u001b[0;32m----> 4\u001b[0;31m \u001b[0mprint\u001b[0m\u001b[0;34m(\u001b[0m\u001b[0;34m\"Memanggil Set S1 dengan indeks urutan:\"\u001b[0m\u001b[0;34m,\u001b[0m\u001b[0mS1\u001b[0m\u001b[0;34m[\u001b[0m\u001b[0;36m0\u001b[0m\u001b[0;34m:\u001b[0m\u001b[0;36m3\u001b[0m\u001b[0;34m]\u001b[0m\u001b[0;34m)\u001b[0m\u001b[0;34m\u001b[0m\u001b[0;34m\u001b[0m\u001b[0m\n\u001b[0m",
      "\u001b[0;31mTypeError\u001b[0m: 'set' object is not subscriptable"
     ]
    }
   ],
   "source": [
    "#Sifat-sifat Set\n",
    "\n",
    "#Tidak terurut (uordered)\n",
    "print(\"Memanggil Set S1 dengan indeks urutan:\",S1[0:3])"
   ]
  },
  {
   "cell_type": "code",
   "execution_count": 3,
   "metadata": {
    "colab": {
     "base_uri": "https://localhost:8080/",
     "height": 227
    },
    "id": "mA8FssaZmTVW",
    "outputId": "1468efd5-1565-4cfe-8402-bf930bcc50e4"
   },
   "outputs": [
    {
     "ename": "TypeError",
     "evalue": "ignored",
     "output_type": "error",
     "traceback": [
      "\u001b[0;31m---------------------------------------------------------------------------\u001b[0m",
      "\u001b[0;31mTypeError\u001b[0m                                 Traceback (most recent call last)",
      "\u001b[0;32m<ipython-input-3-b82d162a38e5>\u001b[0m in \u001b[0;36m<module>\u001b[0;34m()\u001b[0m\n\u001b[1;32m      1\u001b[0m \u001b[0;31m#Tidak bisa diganti\u001b[0m\u001b[0;34m\u001b[0m\u001b[0;34m\u001b[0m\u001b[0;34m\u001b[0m\u001b[0m\n\u001b[1;32m      2\u001b[0m \u001b[0;31m#Contoh\u001b[0m\u001b[0;34m\u001b[0m\u001b[0;34m\u001b[0m\u001b[0;34m\u001b[0m\u001b[0m\n\u001b[0;32m----> 3\u001b[0;31m \u001b[0mS1\u001b[0m\u001b[0;34m[\u001b[0m\u001b[0;36m1\u001b[0m\u001b[0;34m]\u001b[0m\u001b[0;34m=\u001b[0m\u001b[0;36m2\u001b[0m\u001b[0;34m\u001b[0m\u001b[0;34m\u001b[0m\u001b[0m\n\u001b[0m\u001b[1;32m      4\u001b[0m \u001b[0mprint\u001b[0m\u001b[0;34m(\u001b[0m\u001b[0;34m\"Set 1 setelah dganti elemennya:\"\u001b[0m\u001b[0;34m,\u001b[0m\u001b[0mS1\u001b[0m\u001b[0;34m)\u001b[0m\u001b[0;34m\u001b[0m\u001b[0;34m\u001b[0m\u001b[0m\n",
      "\u001b[0;31mTypeError\u001b[0m: 'set' object does not support item assignment"
     ]
    }
   ],
   "source": [
    "#Tidak bisa diganti\n",
    "#Contoh\n",
    "S1[1]=2\n",
    "print(\"Set 1 setelah dganti elemennya:\",S1)"
   ]
  },
  {
   "cell_type": "code",
   "execution_count": 5,
   "metadata": {
    "colab": {
     "base_uri": "https://localhost:8080/",
     "height": 209
    },
    "id": "xBuTNp6-mz6k",
    "outputId": "aeeb45d2-827b-465c-897f-8bc7abe8ca56"
   },
   "outputs": [
    {
     "ename": "TypeError",
     "evalue": "ignored",
     "output_type": "error",
     "traceback": [
      "\u001b[0;31m---------------------------------------------------------------------------\u001b[0m",
      "\u001b[0;31mTypeError\u001b[0m                                 Traceback (most recent call last)",
      "\u001b[0;32m<ipython-input-5-f16bc454cb86>\u001b[0m in \u001b[0;36m<module>\u001b[0;34m()\u001b[0m\n\u001b[1;32m      1\u001b[0m \u001b[0;31m#Tidak dapat diindeks (slicing)\u001b[0m\u001b[0;34m\u001b[0m\u001b[0;34m\u001b[0m\u001b[0;34m\u001b[0m\u001b[0m\n\u001b[1;32m      2\u001b[0m \u001b[0;31m#Contoh\u001b[0m\u001b[0;34m\u001b[0m\u001b[0;34m\u001b[0m\u001b[0;34m\u001b[0m\u001b[0m\n\u001b[0;32m----> 3\u001b[0;31m \u001b[0mprint\u001b[0m\u001b[0;34m(\u001b[0m\u001b[0;34m\"Slicing Set S1:\"\u001b[0m\u001b[0;34m,\u001b[0m\u001b[0mS1\u001b[0m\u001b[0;34m[\u001b[0m\u001b[0;36m3\u001b[0m\u001b[0;34m]\u001b[0m\u001b[0;34m)\u001b[0m\u001b[0;34m\u001b[0m\u001b[0;34m\u001b[0m\u001b[0m\n\u001b[0m",
      "\u001b[0;31mTypeError\u001b[0m: 'set' object is not subscriptable"
     ]
    }
   ],
   "source": [
    "#Tidak dapat diindeks (slicing)\n",
    "#Contoh\n",
    "print(\"Slicing Set S1:\",S1[3])"
   ]
  },
  {
   "cell_type": "code",
   "execution_count": 6,
   "metadata": {
    "colab": {
     "base_uri": "https://localhost:8080/"
    },
    "id": "6HGg1493nh1q",
    "outputId": "4dd46928-197a-402b-9c54-831a2bd01783"
   },
   "outputs": [
    {
     "name": "stdout",
     "output_type": "stream",
     "text": [
      "Duplkasi pada Set S1: {1, (2+3j), 'dua'}\n"
     ]
    }
   ],
   "source": [
    "#Data diijinkan dulikasi\n",
    "#Contoh\n",
    "S1 = {1,\"dua\",True,True,2+3j,2+3j} #catatan :boolean tidak terbaca/diaggap tidak ada\n",
    "print(\"Duplkasi pada Set S1:\",S1)"
   ]
  },
  {
   "cell_type": "markdown",
   "metadata": {
    "id": "J2gL8cPLpQET"
   },
   "source": [
    "Latihan Struktur Data Set"
   ]
  },
  {
   "cell_type": "code",
   "execution_count": 11,
   "metadata": {
    "colab": {
     "base_uri": "https://localhost:8080/"
    },
    "id": "VrxhFJLVpWaT",
    "outputId": "cd1b60a8-5427-4a0e-de6a-527f74d7f8ba"
   },
   "outputs": [
    {
     "name": "stdout",
     "output_type": "stream",
     "text": [
      "Gabungan A dan B adalah: {1, 2, 3, 4, 6, 7, 8, 9}\n",
      "Gabungan A dan B adalah: {1, 2, 3, 4, 6, 7, 8, 9}\n"
     ]
    }
   ],
   "source": [
    "#Operasi gabungan (union)\n",
    "A = {1,3,4,6,8}\n",
    "B = {2,3,6,7,9}\n",
    "\n",
    "#Gabungkan menggunakan |\n",
    "print (\"Gabungan A dan B adalah:\", A|B)\n",
    "#Gabungkan menggunakan union()\n",
    "print (\"Gabungan A dan B adalah:\", A.union(B))"
   ]
  },
  {
   "cell_type": "code",
   "execution_count": 12,
   "metadata": {
    "colab": {
     "base_uri": "https://localhost:8080/"
    },
    "id": "RVv43aLaq3xA",
    "outputId": "6f3dbbc0-8aea-4ed2-b59f-f93799fb1051"
   },
   "outputs": [
    {
     "name": "stdout",
     "output_type": "stream",
     "text": [
      "Duplikasi pada set A: {1, 3, 4, 6, 8}\n"
     ]
    }
   ],
   "source": [
    "#Menduplikasi data\n",
    "A = {1,3,4,6,8,8,1}\n",
    "print(\"Duplikasi pada set A:\",A)\n"
   ]
  },
  {
   "cell_type": "code",
   "execution_count": 13,
   "metadata": {
    "colab": {
     "base_uri": "https://localhost:8080/"
    },
    "id": "ZN1XzZ7AtrBK",
    "outputId": "dda97685-45e3-404d-95d8-181bd2e67fa8"
   },
   "outputs": [
    {
     "name": "stdout",
     "output_type": "stream",
     "text": [
      "Irisan A dan B adalah: {3, 6}\n",
      "Irisan B dan A adalah: {3, 6}\n",
      "Irisan A dan B adalah: {3, 6}\n",
      "Irisan B dan A adalah: {3, 6}\n"
     ]
    }
   ],
   "source": [
    "#Operasi irisan (Intersection)\n",
    "A = {1,3,4,6,8}\n",
    "B = {2,3,6,7,9}\n",
    "\n",
    "#Irisan menggunakan &\n",
    "print(\"Irisan A dan B adalah:\",A&B) #apakah sama dengan B irisan A?\n",
    "print(\"Irisan B dan A adalah:\",B&A)\n",
    "\n",
    "#Irisan menggunakan intersection()\n",
    "print(\"Irisan A dan B adalah:\",A.intersection(B))\n",
    "print(\"Irisan B dan A adalah:\",B.intersection(A))"
   ]
  }
 ],
 "metadata": {
  "colab": {
   "collapsed_sections": [],
   "name": "Untitled16.ipynb",
   "provenance": []
  },
  "kernelspec": {
   "display_name": "Python 3",
   "language": "python",
   "name": "python3"
  },
  "language_info": {
   "codemirror_mode": {
    "name": "ipython",
    "version": 3
   },
   "file_extension": ".py",
   "mimetype": "text/x-python",
   "name": "python",
   "nbconvert_exporter": "python",
   "pygments_lexer": "ipython3",
   "version": "3.7.4"
  }
 },
 "nbformat": 4,
 "nbformat_minor": 1
}
